{
  "nbformat": 4,
  "nbformat_minor": 0,
  "metadata": {
    "kernelspec": {
      "display_name": "Python 3",
      "language": "python",
      "name": "python3"
    },
    "language_info": {
      "codemirror_mode": {
        "name": "ipython",
        "version": 3
      },
      "file_extension": ".py",
      "mimetype": "text/x-python",
      "name": "python",
      "nbconvert_exporter": "python",
      "pygments_lexer": "ipython3",
      "version": "3.6.12"
    },
    "colab": {
      "name": "quickstart_tutorial.ipynb",
      "provenance": [],
      "include_colab_link": true
    },
    "accelerator": "GPU"
  },
  "cells": [
    {
      "cell_type": "markdown",
      "metadata": {
        "id": "view-in-github",
        "colab_type": "text"
      },
      "source": [
        "<a href=\"https://colab.research.google.com/github/mjbooo/Pr4AI/blob/main/quickstart_tutorial.ipynb\" target=\"_parent\"><img src=\"https://colab.research.google.com/assets/colab-badge.svg\" alt=\"Open In Colab\"/></a>"
      ]
    },
    {
      "cell_type": "code",
      "metadata": {
        "id": "K7z76VvXyT48"
      },
      "source": [
        "%matplotlib inline"
      ],
      "execution_count": null,
      "outputs": []
    },
    {
      "cell_type": "markdown",
      "metadata": {
        "id": "PIWRpOkdyT5E"
      },
      "source": [
        "\n",
        "`Learn the Basics <intro.html>`_ ||\n",
        "**Quickstart** || \n",
        "`Tensors <tensorqs_tutorial.html>`_ || \n",
        "`Datasets & DataLoaders <data_tutorial.html>`_ ||\n",
        "`Transforms <transforms_tutorial.html>`_ ||\n",
        "`Build Model <buildmodel_tutorial.html>`_ ||\n",
        "`Autograd <autogradqs_tutorial.html>`_ ||\n",
        "`Optimization <optimization_tutorial.html>`_ ||\n",
        "`Save & Load Model <saveloadrun_tutorial.html>`_\n",
        "\n",
        "Quickstart\n",
        "===================\n",
        "This section runs through the API for common tasks in machine learning. Refer to the links in each section to dive deeper.\n",
        "\n",
        "Working with data\n",
        "-----------------\n",
        "PyTorch has two `primitives to work with data <https://pytorch.org/docs/stable/data.html>`_: \n",
        "``torch.utils.data.DataLoader`` and ``torch.utils.data.Dataset``.\n",
        "``Dataset`` stores the samples and their corresponding labels, and ``DataLoader`` wraps an iterable around\n",
        "the ``Dataset``.\n",
        "\n",
        "\n"
      ]
    },
    {
      "cell_type": "code",
      "metadata": {
        "id": "3DoMyG6GyT5F"
      },
      "source": [
        "import torch\n",
        "from torch import nn\n",
        "from torch.utils.data import DataLoader\n",
        "from torchvision import datasets\n",
        "from torchvision.transforms import ToTensor, Lambda, Compose\n",
        "import matplotlib.pyplot as plt"
      ],
      "execution_count": null,
      "outputs": []
    },
    {
      "cell_type": "markdown",
      "metadata": {
        "id": "4vi8pCBNyT5F"
      },
      "source": [
        "PyTorch offers domain-specific libraries such as \n",
        "\n",
        "`TorchText <https://pytorch.org/text/stable/index.html>`_, \n",
        "\n",
        "`TorchVision <https://pytorch.org/vision/stable/index.html>`_,\n",
        "\n",
        "`TorchAudio <https://pytorch.org/audio/stable/index.html>`_, \n",
        "\n",
        "all of which include datasets. \n",
        "\n",
        "For this tutorial, we  will be using a TorchVision dataset.\n",
        "\n",
        "The ``torchvision.datasets`` module contains ``Dataset`` objects for many real-world vision data like \n",
        "CIFAR, COCO (`full list here <https://pytorch.org/docs/stable/torchvision/datasets.html>`_). \n",
        "\n",
        "In this tutorial, we\n",
        "use the FashionMNIST dataset. Every TorchVision ``Dataset`` includes two arguments: \n",
        "\n",
        "``transform`` and\n",
        "``target_transform`` to modify the samples and labels respectively.\n",
        "\n"
      ]
    },
    {
      "cell_type": "code",
      "metadata": {
        "id": "V5gx3AGsyT5F"
      },
      "source": [
        "# Download training data from open datasets.\n",
        "training_data = datasets.FashionMNIST(\n",
        "    root=\"data\",\n",
        "    train=True,\n",
        "    download=True,\n",
        "    transform=ToTensor(),\n",
        ")\n",
        "\n",
        "# Download test data from open datasets.\n",
        "test_data = datasets.FashionMNIST(\n",
        "    root=\"data\",\n",
        "    train=False,\n",
        "    download=True,\n",
        "    transform=ToTensor(),\n",
        ")"
      ],
      "execution_count": null,
      "outputs": []
    },
    {
      "cell_type": "markdown",
      "metadata": {
        "id": "C1xnP91eyT5G"
      },
      "source": [
        "We pass the ``Dataset`` as an argument to ``DataLoader``. \n",
        "\n",
        "This wraps an iterable over our dataset, and supports\n",
        "automatic batching, sampling, shuffling and multiprocess data loading. \n",
        "\n",
        "Here we define a batch size of 64, i.e. each element \n",
        "in the dataloader iterable will return a batch of 64 features and labels.\n",
        "\n"
      ]
    },
    {
      "cell_type": "code",
      "metadata": {
        "id": "JbXJBnOryT5G",
        "colab": {
          "base_uri": "https://localhost:8080/"
        },
        "outputId": "9effa701-364b-4fa2-ba32-fe4c8ac0fc34"
      },
      "source": [
        "batch_size = 64\n",
        "\n",
        "# Create data loaders.\n",
        "train_dataloader = DataLoader(training_data, batch_size=batch_size)\n",
        "test_dataloader = DataLoader(test_data, batch_size=batch_size)\n",
        "\n",
        "for X, y in test_dataloader:\n",
        "    print(\"Shape of X [N, C, H, W]: \", X.shape)\n",
        "    print(\"Shape of y: \", y.shape, y.dtype)\n",
        "    break"
      ],
      "execution_count": null,
      "outputs": [
        {
          "output_type": "stream",
          "text": [
            "Shape of X [N, C, H, W]:  torch.Size([64, 1, 28, 28])\n",
            "Shape of y:  torch.Size([64]) torch.int64\n"
          ],
          "name": "stdout"
        }
      ]
    },
    {
      "cell_type": "markdown",
      "metadata": {
        "id": "QTxiK0xgyT5G"
      },
      "source": [
        "Read more about `loading data in PyTorch <data_tutorial.html>`_.\n",
        "\n",
        "\n"
      ]
    },
    {
      "cell_type": "markdown",
      "metadata": {
        "id": "-7h8RC8eyT5H"
      },
      "source": [
        "--------------\n",
        "\n",
        "\n"
      ]
    },
    {
      "cell_type": "markdown",
      "metadata": {
        "id": "Zzv3raf-yT5H"
      },
      "source": [
        "Creating Models\n",
        "------------------\n",
        "To define a neural network in PyTorch, we create a class that inherits \n",
        "from `nn.Module <https://pytorch.org/docs/stable/generated/torch.nn.Module.html)>`_. We define the layers of the network\n",
        "in the ``__init__`` function and specify how data will pass through the network in the ``forward`` function. To accelerate \n",
        "operations in the neural network, we move it to the GPU if available.\n",
        "\n"
      ]
    },
    {
      "cell_type": "code",
      "metadata": {
        "id": "aaHZj0UtyT5H",
        "colab": {
          "base_uri": "https://localhost:8080/"
        },
        "outputId": "7a922651-7770-4757-d9bf-d937fb0b48a2"
      },
      "source": [
        "# Get cpu or gpu device for training.\n",
        "device = \"cuda\" if torch.cuda.is_available() else \"cpu\"\n",
        "print(\"Using {} device\".format(device))\n",
        "\n",
        "# Define model\n",
        "class NeuralNetwork(nn.Module):\n",
        "    def __init__(self):\n",
        "        super(NeuralNetwork, self).__init__()\n",
        "        self.flatten = nn.Flatten()\n",
        "        self.linear_relu_stack = nn.Sequential(\n",
        "            nn.Linear(28*28, 512),\n",
        "            nn.ReLU(),\n",
        "            nn.Linear(512, 512),\n",
        "            nn.ReLU(),\n",
        "            nn.Linear(512, 10),\n",
        "            nn.ReLU()\n",
        "        )\n",
        "\n",
        "    def forward(self, x):\n",
        "        x = self.flatten(x)\n",
        "        logits = self.linear_relu_stack(x)\n",
        "        return logits\n",
        "\n",
        "model = NeuralNetwork().to(device)\n",
        "print(model)"
      ],
      "execution_count": null,
      "outputs": [
        {
          "output_type": "stream",
          "text": [
            "Using cuda device\n",
            "NeuralNetwork(\n",
            "  (flatten): Flatten(start_dim=1, end_dim=-1)\n",
            "  (linear_relu_stack): Sequential(\n",
            "    (0): Linear(in_features=784, out_features=512, bias=True)\n",
            "    (1): ReLU()\n",
            "    (2): Linear(in_features=512, out_features=512, bias=True)\n",
            "    (3): ReLU()\n",
            "    (4): Linear(in_features=512, out_features=10, bias=True)\n",
            "    (5): ReLU()\n",
            "  )\n",
            ")\n"
          ],
          "name": "stdout"
        }
      ]
    },
    {
      "cell_type": "markdown",
      "metadata": {
        "id": "y0w36y2nyT5I"
      },
      "source": [
        "Read more about `building neural networks in PyTorch <buildmodel_tutorial.html>`_.\n",
        "\n",
        "\n"
      ]
    },
    {
      "cell_type": "markdown",
      "metadata": {
        "id": "1sMklOKbyT5I"
      },
      "source": [
        "--------------\n",
        "\n",
        "\n"
      ]
    },
    {
      "cell_type": "markdown",
      "metadata": {
        "id": "zsHOeC8HyT5I"
      },
      "source": [
        "Optimizing the Model Parameters\n",
        "----------------------------------------\n",
        "To train a model, we need a `loss function <https://pytorch.org/docs/stable/nn.html#loss-functions>`_\n",
        "and an `optimizer <https://pytorch.org/docs/stable/optim.html>`_. \n",
        "\n"
      ]
    },
    {
      "cell_type": "code",
      "metadata": {
        "id": "tzhB45Z6yT5I"
      },
      "source": [
        "loss_fn = nn.CrossEntropyLoss()\n",
        "optimizer = torch.optim.SGD(model.parameters(), lr=1e-3)"
      ],
      "execution_count": null,
      "outputs": []
    },
    {
      "cell_type": "markdown",
      "metadata": {
        "id": "Z8lVEBmcyT5I"
      },
      "source": [
        "In a single training loop, the model makes predictions on the training dataset (fed to it in batches), and \n",
        "backpropagates the prediction error to adjust the model's parameters. \n",
        "\n"
      ]
    },
    {
      "cell_type": "code",
      "metadata": {
        "id": "FocqNeMcyT5J"
      },
      "source": [
        "def train(dataloader, model, loss_fn, optimizer):\n",
        "    size = len(dataloader.dataset)\n",
        "    for batch, (X, y) in enumerate(dataloader):\n",
        "        X, y = X.to(device), y.to(device)\n",
        "        \n",
        "        # Compute prediction error\n",
        "        pred = model(X)\n",
        "        loss = loss_fn(pred, y)\n",
        "        \n",
        "        # Backpropagation\n",
        "        optimizer.zero_grad()\n",
        "        loss.backward()\n",
        "        optimizer.step()\n",
        "\n",
        "        if batch % 100 == 0:\n",
        "            loss, current = loss.item(), batch * len(X)\n",
        "            print(f\"loss: {loss:>7f}  [{current:>5d}/{size:>5d}]\")"
      ],
      "execution_count": null,
      "outputs": []
    },
    {
      "cell_type": "markdown",
      "metadata": {
        "id": "ZpPTR4W1yT5J"
      },
      "source": [
        "We also check the model's performance against the test dataset to ensure it is learning.\n",
        "\n"
      ]
    },
    {
      "cell_type": "code",
      "metadata": {
        "id": "kXqy0RkQyT5J"
      },
      "source": [
        "def test(dataloader, model):\n",
        "    size = len(dataloader.dataset)\n",
        "    model.eval()\n",
        "    test_loss, correct = 0, 0\n",
        "    with torch.no_grad():\n",
        "        for X, y in dataloader:\n",
        "            X, y = X.to(device), y.to(device)\n",
        "            pred = model(X)\n",
        "            test_loss += loss_fn(pred, y).item()\n",
        "            correct += (pred.argmax(1) == y).type(torch.float).sum().item()\n",
        "    test_loss /= size\n",
        "    correct /= size\n",
        "    print(f\"Test Error: \\n Accuracy: {(100*correct):>0.1f}%, Avg loss: {test_loss:>8f} \\n\")"
      ],
      "execution_count": null,
      "outputs": []
    },
    {
      "cell_type": "markdown",
      "metadata": {
        "id": "1uNXldmMyT5K"
      },
      "source": [
        "The training process is conducted over several iterations (*epochs*). During each epoch, the model learns \n",
        "parameters to make better predictions. We print the model's accuracy and loss at each epoch; we'd like to see the\n",
        "accuracy increase and the loss decrease with every epoch.\n",
        "\n"
      ]
    },
    {
      "cell_type": "code",
      "metadata": {
        "id": "h1RNgNf-yT5L",
        "colab": {
          "base_uri": "https://localhost:8080/"
        },
        "outputId": "e03b2fec-ac3d-45ac-ae30-171c4ffc81b5"
      },
      "source": [
        "epochs = 5\n",
        "for t in range(epochs):\n",
        "    print(f\"Epoch {t+1}\\n-------------------------------\")\n",
        "    train(train_dataloader, model, loss_fn, optimizer)\n",
        "    test(test_dataloader, model)\n",
        "print(\"Done!\")"
      ],
      "execution_count": null,
      "outputs": [
        {
          "output_type": "stream",
          "text": [
            "Epoch 1\n",
            "-------------------------------\n",
            "loss: 2.300097  [    0/60000]\n",
            "loss: 2.293062  [ 6400/60000]\n",
            "loss: 2.280906  [12800/60000]\n",
            "loss: 2.279416  [19200/60000]\n",
            "loss: 2.273994  [25600/60000]\n",
            "loss: 2.250565  [32000/60000]\n",
            "loss: 2.263515  [38400/60000]\n",
            "loss: 2.237954  [44800/60000]\n",
            "loss: 2.224274  [51200/60000]\n",
            "loss: 2.225022  [57600/60000]\n",
            "Test Error: \n",
            " Accuracy: 43.8%, Avg loss: 0.034802 \n",
            "\n",
            "Epoch 2\n",
            "-------------------------------\n",
            "loss: 2.221210  [    0/60000]\n",
            "loss: 2.228274  [ 6400/60000]\n",
            "loss: 2.194434  [12800/60000]\n",
            "loss: 2.195050  [19200/60000]\n",
            "loss: 2.196041  [25600/60000]\n",
            "loss: 2.141078  [32000/60000]\n",
            "loss: 2.166259  [38400/60000]\n",
            "loss: 2.120672  [44800/60000]\n",
            "loss: 2.095955  [51200/60000]\n",
            "loss: 2.102287  [57600/60000]\n",
            "Test Error: \n",
            " Accuracy: 53.7%, Avg loss: 0.032840 \n",
            "\n",
            "Epoch 3\n",
            "-------------------------------\n",
            "loss: 2.107670  [    0/60000]\n",
            "loss: 2.121743  [ 6400/60000]\n",
            "loss: 2.055298  [12800/60000]\n",
            "loss: 2.054426  [19200/60000]\n",
            "loss: 2.075860  [25600/60000]\n",
            "loss: 1.983193  [32000/60000]\n",
            "loss: 2.009891  [38400/60000]\n",
            "loss: 1.942729  [44800/60000]\n",
            "loss: 1.903372  [51200/60000]\n",
            "loss: 1.920239  [57600/60000]\n",
            "Test Error: \n",
            " Accuracy: 54.1%, Avg loss: 0.029988 \n",
            "\n",
            "Epoch 4\n",
            "-------------------------------\n",
            "loss: 1.950815  [    0/60000]\n",
            "loss: 1.967963  [ 6400/60000]\n",
            "loss: 1.868744  [12800/60000]\n",
            "loss: 1.863665  [19200/60000]\n",
            "loss: 1.937031  [25600/60000]\n",
            "loss: 1.799989  [32000/60000]\n",
            "loss: 1.825435  [38400/60000]\n",
            "loss: 1.753630  [44800/60000]\n",
            "loss: 1.712421  [51200/60000]\n",
            "loss: 1.734018  [57600/60000]\n",
            "Test Error: \n",
            " Accuracy: 54.4%, Avg loss: 0.027317 \n",
            "\n",
            "Epoch 5\n",
            "-------------------------------\n",
            "loss: 1.811562  [    0/60000]\n",
            "loss: 1.831017  [ 6400/60000]\n",
            "loss: 1.713855  [12800/60000]\n",
            "loss: 1.707377  [19200/60000]\n",
            "loss: 1.833966  [25600/60000]\n",
            "loss: 1.656532  [32000/60000]\n",
            "loss: 1.680362  [38400/60000]\n",
            "loss: 1.619191  [44800/60000]\n",
            "loss: 1.582772  [51200/60000]\n",
            "loss: 1.599857  [57600/60000]\n",
            "Test Error: \n",
            " Accuracy: 55.7%, Avg loss: 0.025422 \n",
            "\n",
            "Done!\n"
          ],
          "name": "stdout"
        }
      ]
    },
    {
      "cell_type": "markdown",
      "metadata": {
        "id": "rxHCWY0ayT5L"
      },
      "source": [
        "Read more about `Training your model <optimization_tutorial.html>`_.\n",
        "\n",
        "\n"
      ]
    },
    {
      "cell_type": "markdown",
      "metadata": {
        "id": "sliMjR6KyT5L"
      },
      "source": [
        "--------------\n",
        "\n",
        "\n"
      ]
    },
    {
      "cell_type": "markdown",
      "metadata": {
        "id": "zzQfyoHnyT5L"
      },
      "source": [
        "Saving Models\n",
        "-------------\n",
        "A common way to save a model is to serialize the internal state dictionary (containing the model parameters).\n",
        "\n"
      ]
    },
    {
      "cell_type": "code",
      "metadata": {
        "id": "4Rs-PMDNyT5L",
        "colab": {
          "base_uri": "https://localhost:8080/"
        },
        "outputId": "ddd985c5-5111-4be7-e0c8-455dbfa3e79f"
      },
      "source": [
        "torch.save(model.state_dict(), \"model.pth\")\n",
        "print(\"Saved PyTorch Model State to model.pth\")"
      ],
      "execution_count": null,
      "outputs": [
        {
          "output_type": "stream",
          "text": [
            "Saved PyTorch Model State to model.pth\n"
          ],
          "name": "stdout"
        }
      ]
    },
    {
      "cell_type": "markdown",
      "metadata": {
        "id": "Km75xYWCyT5M"
      },
      "source": [
        "Loading Models\n",
        "----------------------------\n",
        "\n",
        "The process for loading a model includes re-creating the model structure and loading\n",
        "the state dictionary into it. \n",
        "\n"
      ]
    },
    {
      "cell_type": "code",
      "metadata": {
        "id": "Rfr0NXfayT5M",
        "colab": {
          "base_uri": "https://localhost:8080/"
        },
        "outputId": "4c85cbb7-d7d3-4e50-edb2-6d1a2cf0a7bb"
      },
      "source": [
        "model = NeuralNetwork()\n",
        "model.load_state_dict(torch.load(\"model.pth\"))"
      ],
      "execution_count": null,
      "outputs": [
        {
          "output_type": "execute_result",
          "data": {
            "text/plain": [
              "<All keys matched successfully>"
            ]
          },
          "metadata": {
            "tags": []
          },
          "execution_count": 18
        }
      ]
    },
    {
      "cell_type": "markdown",
      "metadata": {
        "id": "KwEj-olayT5M"
      },
      "source": [
        "This model can now be used to make predictions.\n",
        "\n"
      ]
    },
    {
      "cell_type": "code",
      "metadata": {
        "id": "DhmOlHXbyT5M",
        "colab": {
          "base_uri": "https://localhost:8080/"
        },
        "outputId": "28f6881b-6c00-4b76-f9bf-1b9f6f67af0a"
      },
      "source": [
        "classes = [\n",
        "    \"T-shirt/top\",\n",
        "    \"Trouser\",\n",
        "    \"Pullover\",\n",
        "    \"Dress\",\n",
        "    \"Coat\",\n",
        "    \"Sandal\",\n",
        "    \"Shirt\",\n",
        "    \"Sneaker\",\n",
        "    \"Bag\",\n",
        "    \"Ankle boot\",\n",
        "]\n",
        "\n",
        "model.eval()\n",
        "x, y = test_data[0][0], test_data[0][1]\n",
        "with torch.no_grad():\n",
        "    pred = model(x)\n",
        "    predicted, actual = classes[pred[0].argmax(0)], classes[y]\n",
        "    print(f'Predicted: \"{predicted}\", Actual: \"{actual}\"')"
      ],
      "execution_count": null,
      "outputs": [
        {
          "output_type": "stream",
          "text": [
            "Predicted: \"Sneaker\", Actual: \"Ankle boot\"\n"
          ],
          "name": "stdout"
        }
      ]
    },
    {
      "cell_type": "markdown",
      "metadata": {
        "id": "tWH9qQBLyT5M"
      },
      "source": [
        "Read more about `Saving & Loading your model <saveloadrun_tutorial.html>`_.\n",
        "\n",
        "\n"
      ]
    }
  ]
}
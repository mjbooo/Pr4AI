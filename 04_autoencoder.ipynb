{
  "nbformat": 4,
  "nbformat_minor": 0,
  "metadata": {
    "colab": {
      "name": "04_autoencoder.ipynb.txt",
      "provenance": [],
      "collapsed_sections": [],
      "include_colab_link": true
    },
    "kernelspec": {
      "name": "python3",
      "display_name": "Python 3"
    },
    "accelerator": "GPU"
  },
  "cells": [
    {
      "cell_type": "markdown",
      "metadata": {
        "id": "view-in-github",
        "colab_type": "text"
      },
      "source": [
        "<a href=\"https://colab.research.google.com/github/mjbooo/Pr4AI/blob/main/04_autoencoder.ipynb\" target=\"_parent\"><img src=\"https://colab.research.google.com/assets/colab-badge.svg\" alt=\"Open In Colab\"/></a>"
      ]
    },
    {
      "cell_type": "markdown",
      "metadata": {
        "id": "qFoq-khqMAh7"
      },
      "source": [
        "# Autoencoder"
      ]
    },
    {
      "cell_type": "markdown",
      "metadata": {
        "id": "XXpqf4nGMAh8"
      },
      "source": [
        "## 1. Settings"
      ]
    },
    {
      "cell_type": "markdown",
      "metadata": {
        "id": "cuiAb_LX2QiB"
      },
      "source": [
        "### 1) Import required libraries"
      ]
    },
    {
      "cell_type": "code",
      "metadata": {
        "id": "gOFx3VQpMAh-"
      },
      "source": [
        "import numpy as np\n",
        "import torch\n",
        "import torch.nn as nn\n",
        "import torch.optim as optim\n",
        "import torch.nn.init as init\n",
        "import torchvision.datasets as dset\n",
        "import torchvision.transforms as transforms\n",
        "from torch.utils.data import DataLoader\n",
        "import matplotlib.pyplot as plt\n",
        "import matplotlib as mpl"
      ],
      "execution_count": null,
      "outputs": []
    },
    {
      "cell_type": "markdown",
      "metadata": {
        "id": "OBDG968zMAiC"
      },
      "source": [
        "### 2) Set hyperparameters"
      ]
    },
    {
      "cell_type": "code",
      "metadata": {
        "id": "oxPTgvcjMAiD"
      },
      "source": [
        "batch_size = 256\n",
        "learning_rate = 0.0002  # Ususally [0.0001, 0.001]\n",
        "num_epochs = 10"
      ],
      "execution_count": null,
      "outputs": []
    },
    {
      "cell_type": "markdown",
      "metadata": {
        "id": "7uaV_HtJMAiG"
      },
      "source": [
        "## 2. Data"
      ]
    },
    {
      "cell_type": "markdown",
      "metadata": {
        "id": "yeRww6jr2iZd"
      },
      "source": [
        "### 1) Download Data"
      ]
    },
    {
      "cell_type": "code",
      "metadata": {
        "id": "he-GrlguMAiG",
        "colab": {
          "base_uri": "https://localhost:8080/",
          "height": 546
        },
        "outputId": "02fc09d5-0d21-45e1-cc74-d060db2679bb"
      },
      "source": [
        "!wget www.di.ens.fr/~lelarge/MNIST.tar.gz\n",
        "!tar -zxvf MNIST.tar.gz\n",
        "\n",
        "from torchvision.datasets import MNIST\n",
        "from torchvision import transforms\n",
        "\n",
        "# mnist_train  = MNIST('./', download=True, transform=transforms.Compose([transforms.ToTensor(),]), train=True)\n",
        "mnist_train  = MNIST(\"./\", train=True, transform=transforms.ToTensor(), target_transform=None, download=True)\n",
        "mnist_test = MNIST(\"./\", train=False, transform=transforms.ToTensor(), target_transform=None, download=True)\n",
        "mnist_train, mnist_val = torch.utils.data.random_split(mnist_train, [50000, 10000])\n",
        "\n",
        "# The previous code below from the class causes HTTP503 Error\n",
        "'''\n",
        "mnist_train = dset.MNIST(\"./\", train=True, transform=transforms.ToTensor(), target_transform=None, download=True)\n",
        "mnist_test = dset.MNIST(\"./\", train=False, transform=transforms.ToTensor(), target_transform=None, download=True)\n",
        "mnist_train, mnist_val = torch.utils.data.random_split(mnist_train, [50000, 10000])\n",
        "'''"
      ],
      "execution_count": null,
      "outputs": [
        {
          "output_type": "stream",
          "text": [
            "--2021-05-14 08:07:32--  http://www.di.ens.fr/~lelarge/MNIST.tar.gz\n",
            "Resolving www.di.ens.fr (www.di.ens.fr)... 129.199.99.14\n",
            "Connecting to www.di.ens.fr (www.di.ens.fr)|129.199.99.14|:80... connected.\n",
            "HTTP request sent, awaiting response... 302 Found\n",
            "Location: https://www.di.ens.fr/~lelarge/MNIST.tar.gz [following]\n",
            "--2021-05-14 08:07:32--  https://www.di.ens.fr/~lelarge/MNIST.tar.gz\n",
            "Connecting to www.di.ens.fr (www.di.ens.fr)|129.199.99.14|:443... connected.\n",
            "HTTP request sent, awaiting response... 200 OK\n",
            "Length: unspecified [application/x-gzip]\n",
            "Saving to: ‘MNIST.tar.gz.1’\n",
            "\n",
            "MNIST.tar.gz.1          [        <=>         ]  33.20M  19.6MB/s    in 1.7s    \n",
            "\n",
            "2021-05-14 08:07:34 (19.6 MB/s) - ‘MNIST.tar.gz.1’ saved [34813078]\n",
            "\n",
            "MNIST/\n",
            "MNIST/raw/\n",
            "MNIST/raw/train-labels-idx1-ubyte\n",
            "MNIST/raw/t10k-labels-idx1-ubyte.gz\n",
            "MNIST/raw/t10k-labels-idx1-ubyte\n",
            "MNIST/raw/t10k-images-idx3-ubyte.gz\n",
            "MNIST/raw/train-images-idx3-ubyte\n",
            "MNIST/raw/train-labels-idx1-ubyte.gz\n",
            "MNIST/raw/t10k-images-idx3-ubyte\n",
            "MNIST/raw/train-images-idx3-ubyte.gz\n",
            "MNIST/processed/\n",
            "MNIST/processed/training.pt\n",
            "MNIST/processed/test.pt\n"
          ],
          "name": "stdout"
        },
        {
          "output_type": "execute_result",
          "data": {
            "application/vnd.google.colaboratory.intrinsic+json": {
              "type": "string"
            },
            "text/plain": [
              "'\\nmnist_train = dset.MNIST(\"./\", train=True, transform=transforms.ToTensor(), target_transform=None, download=True)\\nmnist_test = dset.MNIST(\"./\", train=False, transform=transforms.ToTensor(), target_transform=None, download=True)\\nmnist_train, mnist_val = torch.utils.data.random_split(mnist_train, [50000, 10000])\\n'"
            ]
          },
          "metadata": {
            "tags": []
          },
          "execution_count": 33
        }
      ]
    },
    {
      "cell_type": "code",
      "metadata": {
        "id": "w2flOQIh3Mu_",
        "colab": {
          "base_uri": "https://localhost:8080/",
          "height": 318
        },
        "outputId": "0ab51881-0e30-4b16-b8fd-cde88c9f879f"
      },
      "source": [
        "print(mnist_train[0][0].size())   # (1, 28, 28)\n",
        "plt.imshow(mnist_train[10][0].squeeze())\n",
        "# plt.imshow: Display data as an image, i.e., on a 2D regular raster.\n",
        "#The input may either be actual RGB(A) data, or 2D scalar data, which will be rendered as a pseudocolor image.\n",
        "\n",
        "# squeeze: Remove axes of length one from a.\n",
        "wt=np.array([[[1,2,3]]])\n",
        "print(wt.shape)\n",
        "print(wt.squeeze().shape)"
      ],
      "execution_count": null,
      "outputs": [
        {
          "output_type": "stream",
          "text": [
            "torch.Size([1, 28, 28])\n",
            "(1, 1, 3)\n",
            "(3,)\n"
          ],
          "name": "stdout"
        },
        {
          "output_type": "display_data",
          "data": {
            "image/png": "[encoded data removed]",
            "text/plain": [
              "<Figure size 432x288 with 1 Axes>"
            ]
          },
          "metadata": {
            "tags": [],
            "needs_background": "light"
          }
        }
      ]
    },
    {
      "cell_type": "code",
      "metadata": {
        "id": "VFezXtf51OH_",
        "colab": {
          "base_uri": "https://localhost:8080/"
        },
        "outputId": "eddb2606-fd49-49df-c789-7e73c692dc8c"
      },
      "source": [
        "mnist_train[0][1]           # label"
      ],
      "execution_count": null,
      "outputs": [
        {
          "output_type": "execute_result",
          "data": {
            "text/plain": [
              "7"
            ]
          },
          "metadata": {
            "tags": []
          },
          "execution_count": 35
        }
      ]
    },
    {
      "cell_type": "markdown",
      "metadata": {
        "id": "rKz97cYDMAiJ"
      },
      "source": [
        "### 2) Set DataLoader"
      ]
    },
    {
      "cell_type": "code",
      "metadata": {
        "id": "a2YVorheoJKR"
      },
      "source": [
        "dataloaders = {}\n",
        "dataloaders['train'] = DataLoader(mnist_train, batch_size=batch_size, shuffle=True)\n",
        "dataloaders['val'] = DataLoader(mnist_val, batch_size=batch_size, shuffle=False)\n",
        "dataloaders['test'] = DataLoader(mnist_test, batch_size=batch_size, shuffle=False)"
      ],
      "execution_count": null,
      "outputs": []
    },
    {
      "cell_type": "code",
      "metadata": {
        "id": "V83NRcPjaE1t",
        "colab": {
          "base_uri": "https://localhost:8080/"
        },
        "outputId": "e0671009-d39f-4850-e0a8-31bcf3670a56"
      },
      "source": [
        "len(dataloaders[\"train\"])"
      ],
      "execution_count": null,
      "outputs": [
        {
          "output_type": "execute_result",
          "data": {
            "text/plain": [
              "196"
            ]
          },
          "metadata": {
            "tags": []
          },
          "execution_count": 37
        }
      ]
    },
    {
      "cell_type": "markdown",
      "metadata": {
        "id": "gWlU96lLMAiM"
      },
      "source": [
        "## 3. Model & Optimizer"
      ]
    },
    {
      "cell_type": "markdown",
      "metadata": {
        "id": "vZjl2GHl5gj8"
      },
      "source": [
        "### 1) Model"
      ]
    },
    {
      "cell_type": "code",
      "metadata": {
        "id": "mTd6rSIFMAiN"
      },
      "source": [
        "# build your own autoencoder\n",
        "# Autoencdoer SPEC: in my case, 784(28*28) -> 100 -> 30 -> 100 -> 784(28*28)\n",
        "\n",
        "class Autoencoder(nn.Module):\n",
        "    def __init__(self):\n",
        "        # class definition - OOP in Python: member ftn needs 'self' notation\n",
        "        super(Autoencoder,self).__init__()\n",
        "        self.encoder = nn.Sequential(\n",
        "            nn.Linear(28*28, 100),  # Linear layer\n",
        "            nn.ReLU(),              # activation function\n",
        "            nn.Linear(100,30),\n",
        "            nn.ReLU()               # activation function \n",
        "        )\n",
        "        \n",
        "        self.decoder = nn.Sequential(\n",
        "            nn.Linear(30,100),\n",
        "            nn.ReLU(),                          # activation function\n",
        "            nn.Linear(100,28*28),\n",
        "            nn.Sigmoid()                     # activation function (Output should be in [0,1]. Then sigmoid would be useful to make model easy to train the data)\n",
        "        )\n",
        "                \n",
        "    def forward(self, x):                # x: (batch_size, 1, 28, 28)\n",
        "        batch_size = x.size(0)\n",
        "        x = x.view(-1, 28*28)                        # reshape (view method) to 784(28*28)-dimensional vector\n",
        "        # -1 can prevent error  \n",
        "\n",
        "        encoded =    self.encoder(x)                 # hidden vector\n",
        "        out = self.decoder(encoded).view(batch_size, 1, 28, 28)                   # final output. resize to input's size\n",
        "        return out, encoded\n"
      ],
      "execution_count": null,
      "outputs": []
    },
    {
      "cell_type": "markdown",
      "metadata": {
        "id": "yLiqw-rpMAiP"
      },
      "source": [
        "### 2) Loss func & Optimizer"
      ]
    },
    {
      "cell_type": "code",
      "metadata": {
        "id": "ZKc1UKNgMAiQ",
        "colab": {
          "base_uri": "https://localhost:8080/"
        },
        "outputId": "67fdf4dd-2a86-42ad-f324-f90b6637b980"
      },
      "source": [
        "device = torch.device(\"cuda:0\" if torch.cuda.is_available() else \"cpu\")\n",
        "print(device)"
      ],
      "execution_count": null,
      "outputs": [
        {
          "output_type": "stream",
          "text": [
            "cuda:0\n"
          ],
          "name": "stdout"
        }
      ]
    },
    {
      "cell_type": "code",
      "metadata": {
        "id": "K9o1euqGI0jm"
      },
      "source": [
        "model = Autoencoder().to(device)\n",
        "loss_func = nn.MSELoss()  # initialize the loss\n",
        "optimizer = torch.optim.Adam(model.parameters(), lr=learning_rate)"
      ],
      "execution_count": null,
      "outputs": []
    },
    {
      "cell_type": "markdown",
      "metadata": {
        "id": "_W2UI2F_MAiT"
      },
      "source": [
        "## 4. Train "
      ]
    },
    {
      "cell_type": "code",
      "metadata": {
        "id": "HSa4Z2lMcGwL"
      },
      "source": [
        "import time\n",
        "import copy\n",
        "\n",
        "def train_model(model, dataloaders, criterion, optimizer, num_epochs=50):\n",
        "    \"\"\"\n",
        "    model: model to train\n",
        "    dataloaders: train, val, test data's loader\n",
        "    criterion: loss function\n",
        "    optimizer: optimizer to update your model\n",
        "    \"\"\"\n",
        "    since = time.time() # to measure time taken\n",
        "\n",
        "    train_loss_history = []\n",
        "    val_loss_history = []\n",
        "\n",
        "    best_model_wts = copy.deepcopy(model.state_dict())\n",
        "    best_val_loss = 100000000\n",
        "\n",
        "    for epoch in range(num_epochs): # use whole dataset = 1 epoch\n",
        "        print('Epoch {}/{}'.format(epoch, num_epochs - 1))\n",
        "        print('-' * 10)\n",
        "\n",
        "        # Each epoch has training and validation phase\n",
        "        for phase in ['train', 'val']:\n",
        "            if phase == 'train':\n",
        "                model.train()            # Set model to training mode\n",
        "            else:\n",
        "                model.eval()            # Set model to evaluate mode\n",
        "\n",
        "            running_loss = 0.0\n",
        "\n",
        "            # Iterate over data.\n",
        "            for inputs, labels in dataloaders[phase]:\n",
        "                inputs=inputs.to(device)                                       # transfer inputs to GPU \n",
        "                # .to(device)' ensures you either work on cpu or gpu tho. If you don't have GPU, '.cuda()' would yield an error,\n",
        "\n",
        "                # zero the parameter gradients\n",
        "                optimizer.zero_grad()\n",
        "\n",
        "                # forward\n",
        "                # track history if only in train\n",
        "                with torch.set_grad_enabled(phase == 'train'):  # in  validation phase: Do NOT calc. the grad for the memory efficiency\n",
        "                    outputs, encoded = model(inputs)\n",
        "                    loss = criterion(outputs, inputs)                          # calculate a loss\n",
        "\n",
        "                    # backward + optimize only if in training phase\n",
        "                    # *important to memorize the canonical structure of this training phase\n",
        "                    if phase == 'train':\n",
        "                        loss.backward()                          # perform back-propagation from the loss\n",
        "                        optimizer.step()                             # perform gradient descent with given optimizer\n",
        "\n",
        "                # statistics\n",
        "                running_loss += loss.item() * inputs.size(0)                    \n",
        "\n",
        "            epoch_loss = running_loss / len(dataloaders[phase].dataset)\n",
        "\n",
        "            print('{} Loss: {:.4f}'.format(phase, epoch_loss))\n",
        "            \n",
        "            # deep copy the model\n",
        "            if phase == 'train':\n",
        "                train_loss_history.append(epoch_loss)\n",
        "            \n",
        "            if phase == 'val':\n",
        "                val_loss_history.append(epoch_loss)\n",
        "\n",
        "            if phase == 'val' and epoch_loss < best_val_loss:\n",
        "                best_val_loss = epoch_loss\n",
        "                best_model_wts = copy.deepcopy(model.state_dict())\n",
        "\n",
        "            # update the best performance model in validation phase\n",
        "            \n",
        "        print()\n",
        "\n",
        "    time_elapsed = time.time() - since\n",
        "    print('Training complete in {:.0f}m {:.0f}s'.format(time_elapsed // 60, time_elapsed % 60))\n",
        "    print('Best val Loss: {:4f}'.format(best_val_loss))\n",
        "\n",
        "    # load best model weights\n",
        "    model.load_state_dict(best_model_wts)\n",
        "    return model, train_loss_history, val_loss_history"
      ],
      "execution_count": null,
      "outputs": []
    },
    {
      "cell_type": "code",
      "metadata": {
        "id": "XTgWxvbai42S",
        "colab": {
          "base_uri": "https://localhost:8080/"
        },
        "outputId": "234b08cf-202d-46fd-b940-592e1cc2147d"
      },
      "source": [
        "best_model, train_loss_history, val_loss_history = train_model(model, dataloaders, loss_func, optimizer, num_epochs=50)\n",
        "\n",
        "# 10 epochs = validation loss continuously decreases: we should go further epoch! It doesn't cause overfitting yet. \n",
        "# We have to push the model til the model show the overfitting (when val error starts to increase) then do h.p tuning \n"
      ],
      "execution_count": null,
      "outputs": [
        {
          "output_type": "stream",
          "text": [
            "Epoch 0/49\n",
            "----------\n",
            "train Loss: 0.1204\n",
            "val Loss: 0.0702\n",
            "\n",
            "Epoch 1/49\n",
            "----------\n",
            "train Loss: 0.0658\n",
            "val Loss: 0.0597\n",
            "\n",
            "Epoch 2/49\n",
            "----------\n",
            "train Loss: 0.0525\n",
            "val Loss: 0.0461\n",
            "\n",
            "Epoch 3/49\n",
            "----------\n",
            "train Loss: 0.0425\n",
            "val Loss: 0.0396\n",
            "\n",
            "Epoch 4/49\n",
            "----------\n",
            "train Loss: 0.0376\n",
            "val Loss: 0.0360\n",
            "\n",
            "Epoch 5/49\n",
            "----------\n",
            "train Loss: 0.0345\n",
            "val Loss: 0.0333\n",
            "\n",
            "Epoch 6/49\n",
            "----------\n",
            "train Loss: 0.0317\n",
            "val Loss: 0.0305\n",
            "\n",
            "Epoch 7/49\n",
            "----------\n",
            "train Loss: 0.0291\n",
            "val Loss: 0.0281\n",
            "\n",
            "Epoch 8/49\n",
            "----------\n",
            "train Loss: 0.0271\n",
            "val Loss: 0.0265\n",
            "\n",
            "Epoch 9/49\n",
            "----------\n",
            "train Loss: 0.0256\n",
            "val Loss: 0.0250\n",
            "\n",
            "Epoch 10/49\n",
            "----------\n",
            "train Loss: 0.0241\n",
            "val Loss: 0.0236\n",
            "\n",
            "Epoch 11/49\n",
            "----------\n",
            "train Loss: 0.0229\n",
            "val Loss: 0.0225\n",
            "\n",
            "Epoch 12/49\n",
            "----------\n",
            "train Loss: 0.0219\n",
            "val Loss: 0.0215\n",
            "\n",
            "Epoch 13/49\n",
            "----------\n",
            "train Loss: 0.0210\n",
            "val Loss: 0.0207\n",
            "\n",
            "Epoch 14/49\n",
            "----------\n",
            "train Loss: 0.0202\n",
            "val Loss: 0.0199\n",
            "\n",
            "Epoch 15/49\n",
            "----------\n",
            "train Loss: 0.0195\n",
            "val Loss: 0.0193\n",
            "\n",
            "Epoch 16/49\n",
            "----------\n",
            "train Loss: 0.0189\n",
            "val Loss: 0.0187\n",
            "\n",
            "Epoch 17/49\n",
            "----------\n",
            "train Loss: 0.0183\n",
            "val Loss: 0.0182\n",
            "\n",
            "Epoch 18/49\n",
            "----------\n",
            "train Loss: 0.0178\n",
            "val Loss: 0.0178\n",
            "\n",
            "Epoch 19/49\n",
            "----------\n",
            "train Loss: 0.0174\n",
            "val Loss: 0.0174\n",
            "\n",
            "Epoch 20/49\n",
            "----------\n",
            "train Loss: 0.0170\n",
            "val Loss: 0.0170\n",
            "\n",
            "Epoch 21/49\n",
            "----------\n",
            "train Loss: 0.0166\n",
            "val Loss: 0.0166\n",
            "\n",
            "Epoch 22/49\n",
            "----------\n",
            "train Loss: 0.0163\n",
            "val Loss: 0.0163\n",
            "\n",
            "Epoch 23/49\n",
            "----------\n",
            "train Loss: 0.0159\n",
            "val Loss: 0.0159\n",
            "\n",
            "Epoch 24/49\n",
            "----------\n",
            "train Loss: 0.0156\n",
            "val Loss: 0.0156\n",
            "\n",
            "Epoch 25/49\n",
            "----------\n",
            "train Loss: 0.0153\n",
            "val Loss: 0.0153\n",
            "\n",
            "Epoch 26/49\n",
            "----------\n",
            "train Loss: 0.0150\n",
            "val Loss: 0.0150\n",
            "\n",
            "Epoch 27/49\n",
            "----------\n",
            "train Loss: 0.0147\n",
            "val Loss: 0.0147\n",
            "\n",
            "Epoch 28/49\n",
            "----------\n",
            "train Loss: 0.0144\n",
            "val Loss: 0.0145\n",
            "\n",
            "Epoch 29/49\n",
            "----------\n",
            "train Loss: 0.0142\n",
            "val Loss: 0.0142\n",
            "\n",
            "Epoch 30/49\n",
            "----------\n",
            "train Loss: 0.0139\n",
            "val Loss: 0.0140\n",
            "\n",
            "Epoch 31/49\n",
            "----------\n",
            "train Loss: 0.0137\n",
            "val Loss: 0.0138\n",
            "\n",
            "Epoch 32/49\n",
            "----------\n",
            "train Loss: 0.0135\n",
            "val Loss: 0.0136\n",
            "\n",
            "Epoch 33/49\n",
            "----------\n",
            "train Loss: 0.0134\n",
            "val Loss: 0.0134\n",
            "\n",
            "Epoch 34/49\n",
            "----------\n",
            "train Loss: 0.0132\n",
            "val Loss: 0.0133\n",
            "\n",
            "Epoch 35/49\n",
            "----------\n",
            "train Loss: 0.0131\n",
            "val Loss: 0.0131\n",
            "\n",
            "Epoch 36/49\n",
            "----------\n",
            "train Loss: 0.0129\n",
            "val Loss: 0.0130\n",
            "\n",
            "Epoch 37/49\n",
            "----------\n",
            "train Loss: 0.0128\n",
            "val Loss: 0.0129\n",
            "\n",
            "Epoch 38/49\n",
            "----------\n",
            "train Loss: 0.0127\n",
            "val Loss: 0.0128\n",
            "\n",
            "Epoch 39/49\n",
            "----------\n",
            "train Loss: 0.0126\n",
            "val Loss: 0.0127\n",
            "\n",
            "Epoch 40/49\n",
            "----------\n",
            "train Loss: 0.0125\n",
            "val Loss: 0.0126\n",
            "\n",
            "Epoch 41/49\n",
            "----------\n",
            "train Loss: 0.0124\n",
            "val Loss: 0.0125\n",
            "\n",
            "Epoch 42/49\n",
            "----------\n",
            "train Loss: 0.0123\n",
            "val Loss: 0.0124\n",
            "\n",
            "Epoch 43/49\n",
            "----------\n",
            "train Loss: 0.0122\n",
            "val Loss: 0.0123\n",
            "\n",
            "Epoch 44/49\n",
            "----------\n",
            "train Loss: 0.0121\n",
            "val Loss: 0.0122\n",
            "\n",
            "Epoch 45/49\n",
            "----------\n",
            "train Loss: 0.0120\n",
            "val Loss: 0.0121\n",
            "\n",
            "Epoch 46/49\n",
            "----------\n",
            "train Loss: 0.0119\n",
            "val Loss: 0.0121\n",
            "\n",
            "Epoch 47/49\n",
            "----------\n",
            "train Loss: 0.0118\n",
            "val Loss: 0.0119\n",
            "\n",
            "Epoch 48/49\n",
            "----------\n",
            "train Loss: 0.0117\n",
            "val Loss: 0.0118\n",
            "\n",
            "Epoch 49/49\n",
            "----------\n",
            "train Loss: 0.0116\n",
            "val Loss: 0.0117\n",
            "\n",
            "Training complete in 3m 4s\n",
            "Best val Loss: 0.011728\n"
          ],
          "name": "stdout"
        }
      ]
    },
    {
      "cell_type": "code",
      "metadata": {
        "id": "CSxdlpwLVjIG",
        "colab": {
          "base_uri": "https://localhost:8080/"
        },
        "outputId": "4e19787c-a8ee-4e4e-bf44-69af1f74ce3f"
      },
      "source": [
        "# Let's draw a learning curve like below.\n",
        "plt.plot(train_loss_history, label='train')\n",
        "plt.plot(val_loss_history, label='val')\n",
        "plt.xlabel('epoch')\n",
        "plt.ylabel('loss')\n",
        "plt.legend()\n",
        "plt.show()\n",
        "\n",
        "# val error continuously decreases even in 50 epochs! => should go further epoch"
      ],
      "execution_count": null,
      "outputs": [
        {
          "output_type": "display_data",
          "data": {
            "image/png": "[encoded data removed]",
            "text/plain": [
              "<Figure size 432x288 with 1 Axes>"
            ]
          },
          "metadata": {
            "tags": [],
            "needs_background": "light"
          }
        }
      ]
    },
    {
      "cell_type": "markdown",
      "metadata": {
        "id": "qbYYgt8WTZzY"
      },
      "source": [
        "## 5. Check with Test Image"
      ]
    },
    {
      "cell_type": "code",
      "metadata": {
        "id": "XCKx34u5MAic",
        "colab": {
          "base_uri": "https://localhost:8080/"
        },
        "outputId": "27813c23-eb94-4d7a-a29e-f5fc214d24fa"
      },
      "source": [
        "with torch.no_grad():\n",
        "    running_loss = 0.0\n",
        "    for inputs, labels in dataloaders[\"test\"]:\n",
        "        inputs = inputs.to(device)\n",
        "\n",
        "        outputs, encoded = best_model(inputs)\n",
        "        test_loss = loss_func(outputs, inputs)\n",
        "        \n",
        "        running_loss += test_loss.item() * inputs.size(0)\n",
        "\n",
        "    test_loss = running_loss / len(dataloaders[\"test\"].dataset)\n",
        "    print(test_loss)        "
      ],
      "execution_count": null,
      "outputs": [
        {
          "output_type": "stream",
          "text": [
            "0.011254627498984336\n"
          ],
          "name": "stdout"
        }
      ]
    },
    {
      "cell_type": "code",
      "metadata": {
        "scrolled": false,
        "id": "rvww5H9GMAie",
        "colab": {
          "base_uri": "https://localhost:8080/",
          "height": 954
        },
        "outputId": "35335fd4-7825-4007-da27-a588024bcbd4"
      },
      "source": [
        "out_img = torch.squeeze(outputs.cpu().data)\n",
        "print(out_img.size())\n",
        "\n",
        "# epoch increases (train the model sufficiently) = better reconstruction (less blurry)\n",
        "for i in range(5):\n",
        "    plt.subplot(1,2,1)\n",
        "    plt.imshow(torch.squeeze(inputs[i]).cpu().numpy(),cmap='gray')\n",
        "    plt.subplot(1,2,2) \n",
        "    plt.imshow(out_img[i].numpy(),cmap='gray')\n",
        "    plt.show()"
      ],
      "execution_count": null,
      "outputs": [
        {
          "output_type": "stream",
          "text": [
            "torch.Size([16, 28, 28])\n"
          ],
          "name": "stdout"
        },
        {
          "output_type": "display_data",
          "data": {
            "image/png": "[encoded data removed]",
            "text/plain": [
              "<Figure size 432x288 with 2 Axes>"
            ]
          },
          "metadata": {
            "tags": [],
            "needs_background": "light"
          }
        },
        {
          "output_type": "display_data",
          "data": {
            "image/png": "[encoded data removed]",
            "text/plain": [
              "<Figure size 432x288 with 2 Axes>"
            ]
          },
          "metadata": {
            "tags": [],
            "needs_background": "light"
          }
        },
        {
          "output_type": "display_data",
          "data": {
            "image/png": "[encoded data removed]",
            "text/plain": [
              "<Figure size 432x288 with 2 Axes>"
            ]
          },
          "metadata": {
            "tags": [],
            "needs_background": "light"
          }
        },
        {
          "output_type": "display_data",
          "data": {
            "image/png": "[encoded data removed]",
            "text/plain": [
              "<Figure size 432x288 with 2 Axes>"
            ]
          },
          "metadata": {
            "tags": [],
            "needs_background": "light"
          }
        },
        {
          "output_type": "display_data",
          "data": {
            "image/png": "[encoded data removed]",
            "text/plain": [
              "<Figure size 432x288 with 2 Axes>"
            ]
          },
          "metadata": {
            "tags": [],
            "needs_background": "light"
          }
        }
      ]
    },
    {
      "cell_type": "markdown",
      "metadata": {
        "id": "eA994jG-X53U"
      },
      "source": [
        "## 6. Visualizing MNIST"
      ]
    },
    {
      "cell_type": "code",
      "metadata": {
        "id": "T_W-7sy8WT54"
      },
      "source": [
        "np.random.seed(42)\n",
        "\n",
        "from sklearn.manifold import TSNE"
      ],
      "execution_count": null,
      "outputs": []
    },
    {
      "cell_type": "code",
      "metadata": {
        "id": "IzOQPuxchAJq"
      },
      "source": [
        "test_dataset_array = mnist_test.data.numpy() / 255\n",
        "test_dataset_array = np.float32(test_dataset_array)\n",
        "labels = mnist_test.targets.numpy()[:1000]"
      ],
      "execution_count": null,
      "outputs": []
    },
    {
      "cell_type": "code",
      "metadata": {
        "id": "aPh9EtHZjCqH"
      },
      "source": [
        "test_dataset_array = torch.tensor(test_dataset_array[:1000])\n",
        "inputs = test_dataset_array.to(device)\n",
        "outputs, encoded = best_model(inputs) # encoded= latent vector, then visualize it by dimension reduction (2 dim)"
      ],
      "execution_count": null,
      "outputs": []
    },
    {
      "cell_type": "code",
      "metadata": {
        "id": "7cWVqp0DWUg8"
      },
      "source": [
        "encoded = encoded.cpu().detach().numpy()\n",
        "tsne = TSNE()   \n",
        "X_test_2D = tsne.fit_transform(encoded)\n",
        "X_test_2D = (X_test_2D - X_test_2D.min()) / (X_test_2D.max() - X_test_2D.min())"
      ],
      "execution_count": null,
      "outputs": []
    },
    {
      "cell_type": "code",
      "metadata": {
        "id": "XM23epMaXyua",
        "colab": {
          "base_uri": "https://localhost:8080/"
        },
        "outputId": "8f779e2a-3214-4f1b-c619-9456d43db798"
      },
      "source": [
        "plt.scatter(X_test_2D[:, 0], X_test_2D[:, 1], c=labels, s=10, cmap=\"tab10\")\n",
        "plt.axis(\"off\")\n",
        "plt.show()\n",
        "\n",
        "# Orange: easily distinguished\n",
        "# Visualizatin vs. Autoencoder (for reconstruction)"
      ],
      "execution_count": null,
      "outputs": [
        {
          "output_type": "display_data",
          "data": {
            "image/png": "[encoded data removed]",
            "text/plain": [
              "<Figure size 432x288 with 1 Axes>"
            ]
          },
          "metadata": {
            "tags": [],
            "needs_background": "light"
          }
        }
      ]
    },
    {
      "cell_type": "markdown",
      "metadata": {
        "id": "plqT50pDYEqK"
      },
      "source": [
        "Let's make this diagram a bit prettier:"
      ]
    },
    {
      "cell_type": "code",
      "metadata": {
        "id": "jbkgwf3zXzI2",
        "colab": {
          "base_uri": "https://localhost:8080/",
          "height": 466
        },
        "outputId": "41a17b6c-49da-4dc3-a802-ad79f6fa0c7a"
      },
      "source": [
        "# adapted from https://scikit-learn.org/stable/auto_examples/manifold/plot_lle_digits.html\n",
        "plt.figure(figsize=(10, 8))\n",
        "cmap = plt.cm.tab10\n",
        "plt.scatter(X_test_2D[:, 0], X_test_2D[:, 1], c=labels, s=10, cmap=cmap)\n",
        "image_positions = np.array([[1., 1.]])\n",
        "for index, position in enumerate(X_test_2D):\n",
        "    dist = np.sum((position - image_positions) ** 2, axis=1)\n",
        "    if np.min(dist) > 0.02: # if far enough from other images\n",
        "        image_positions = np.r_[image_positions, [position]]\n",
        "        imagebox = mpl.offsetbox.AnnotationBbox(\n",
        "            mpl.offsetbox.OffsetImage(torch.squeeze(inputs).cpu().numpy()[index], cmap=\"binary\"),\n",
        "            position, bboxprops={\"edgecolor\": cmap(labels[index]), \"lw\": 2})\n",
        "        plt.gca().add_artist(imagebox)\n",
        "plt.axis(\"off\")\n",
        "plt.show()"
      ],
      "execution_count": null,
      "outputs": [
        {
          "output_type": "display_data",
          "data": {
            "image/png": "[encoded data removed]",
            "text/plain": [
              "<Figure size 720x576 with 1 Axes>"
            ]
          },
          "metadata": {
            "tags": [],
            "needs_background": "light"
          }
        }
      ]
    },
    {
      "cell_type": "code",
      "metadata": {
        "id": "utDLVRM7Ov2l"
      },
      "source": [
        ""
      ],
      "execution_count": null,
      "outputs": []
    },
    {
      "cell_type": "code",
      "metadata": {
        "id": "qR0tnNSDb_-4"
      },
      "source": [
        ""
      ],
      "execution_count": null,
      "outputs": []
    },
    {
      "cell_type": "markdown",
      "metadata": {
        "id": "fN02iieYcDG2"
      },
      "source": [
        "# Denoising Autoencoder"
      ]
    },
    {
      "cell_type": "code",
      "metadata": {
        "id": "2rpW3c1leLf1"
      },
      "source": [
        "model_D = Autoencoder().to(device)\n",
        "loss_func = nn.MSELoss()\n",
        "optimizer = torch.optim.Adam(model_D.parameters(), lr=learning_rate)"
      ],
      "execution_count": null,
      "outputs": []
    },
    {
      "cell_type": "code",
      "metadata": {
        "id": "9sX5Ke5wg3LK"
      },
      "source": [
        "# It's all the same except for one: adding noise to inputs\n",
        "# copy train_model() code and just add 'noise part'\n",
        "# Hint: You can make noise like this.\n",
        "# noise = torch.zeros(inputs.size(0), 1, 28, 28)\n",
        "# nn.init.normal_(noise, 0, 0.1)\n",
        "\n",
        "def train_model_D(model, dataloaders, criterion, optimizer, num_epochs=10):\n",
        "    since = time.time() # to measure time taken\n",
        "\n",
        "    train_loss_history = []\n",
        "    val_loss_history = []\n",
        "\n",
        "    best_model_wts = copy.deepcopy(model.state_dict())\n",
        "    best_val_loss = 100000000\n",
        "\n",
        "    for epoch in range(num_epochs): # use whole dataset = 1 epoch\n",
        "        print('Epoch {}/{}'.format(epoch, num_epochs - 1))\n",
        "        print('-' * 10)\n",
        "\n",
        "        # Each epoch has training and validation phase\n",
        "        for phase in ['train', 'val']:\n",
        "            if phase == 'train':\n",
        "                model.train()            # Set model to training mode\n",
        "            else:\n",
        "                model.eval()            # Set model to evaluate mode\n",
        "\n",
        "            running_loss = 0.0\n",
        "\n",
        "            # Iterate over data.\n",
        "            for inputs, labels in dataloaders[phase]:\n",
        "                noise= torch.zeros(inputs.size(0), 1, 28, 28)\n",
        "                nn.init.normal_(noise, 0, 0.1)  \n",
        "                # prevent overfitting (because noise-added sample can be treated as a new sample)\n",
        "                # However, adding random noise is not for anytime. It can changes the semantic of the image data \n",
        "                # MNIST is a quite simple dataset, so its semantic isn't affected that much\n",
        "                \n",
        "                noise=noise.to(device)\n",
        "                inputs=inputs.to(device)                                       # transfer inputs to GPU \n",
        "                noise_inputs=noise+inputs\n",
        "                # .to(device)' ensures you either work on cpu or gpu tho. If you don't have GPU, '.cuda()' would yield an error,\n",
        "\n",
        "                # zero the parameter gradients\n",
        "                optimizer.zero_grad()\n",
        "\n",
        "                # forward\n",
        "                # track history if only in train\n",
        "                with torch.set_grad_enabled(phase == 'train'):  # in  validation phase: Do NOT calc. the grad for the memory efficiency\n",
        "                    outputs, encoded = model(noise_inputs)\n",
        "                    loss = criterion(outputs, inputs)                          # calculate a loss\n",
        "\n",
        "                    # backward + optimize only if in training phase\n",
        "                    # *important to memorize the canonical structure of this training phase\n",
        "                    if phase == 'train':\n",
        "                        loss.backward()                          # perform back-propagation from the loss\n",
        "                        optimizer.step()                             # perform gradient descent with given optimizer\n",
        "\n",
        "                # statistics\n",
        "                running_loss += loss.item() * inputs.size(0)                    \n",
        "\n",
        "            epoch_loss = running_loss / len(dataloaders[phase].dataset)\n",
        "\n",
        "            print('{} Loss: {:.4f}'.format(phase, epoch_loss))\n",
        "            \n",
        "            # deep copy the model\n",
        "            if phase == 'train':\n",
        "                train_loss_history.append(epoch_loss)\n",
        "            \n",
        "            if phase == 'val':\n",
        "                val_loss_history.append(epoch_loss)\n",
        "\n",
        "            if phase == 'val' and epoch_loss < best_val_loss:\n",
        "                best_val_loss = epoch_loss\n",
        "                best_model_wts = copy.deepcopy(model.state_dict())\n",
        "\n",
        "            # update the best performance model in validation phase\n",
        "            \n",
        "        print()\n",
        "\n",
        "    time_elapsed = time.time() - since\n",
        "    print('Training complete in {:.0f}m {:.0f}s'.format(time_elapsed // 60, time_elapsed % 60))\n",
        "    print('Best val Loss: {:4f}'.format(best_val_loss))\n",
        "\n",
        "    # load best model weights\n",
        "    model.load_state_dict(best_model_wts)\n",
        "    return model, train_loss_history, val_loss_history"
      ],
      "execution_count": null,
      "outputs": []
    },
    {
      "cell_type": "code",
      "metadata": {
        "id": "9vFT8feZiB1M",
        "colab": {
          "base_uri": "https://localhost:8080/"
        },
        "outputId": "54a39a2c-83ab-401a-bb02-f9e7e608d162"
      },
      "source": [
        "best_model_D, train_loss_history_D, val_loss_history_D = train_model_D(model_D, dataloaders, loss_func, optimizer, num_epochs=20)"
      ],
      "execution_count": null,
      "outputs": [
        {
          "output_type": "stream",
          "text": [
            "Epoch 0/19\n",
            "----------\n",
            "train Loss: 0.1163\n",
            "val Loss: 0.0705\n",
            "\n",
            "Epoch 1/19\n",
            "----------\n",
            "train Loss: 0.0670\n",
            "val Loss: 0.0620\n",
            "\n",
            "Epoch 2/19\n",
            "----------\n",
            "train Loss: 0.0565\n",
            "val Loss: 0.0495\n",
            "\n",
            "Epoch 3/19\n",
            "----------\n",
            "train Loss: 0.0441\n",
            "val Loss: 0.0410\n",
            "\n",
            "Epoch 4/19\n",
            "----------\n",
            "train Loss: 0.0393\n",
            "val Loss: 0.0377\n",
            "\n",
            "Epoch 5/19\n",
            "----------\n",
            "train Loss: 0.0360\n",
            "val Loss: 0.0344\n",
            "\n",
            "Epoch 6/19\n",
            "----------\n",
            "train Loss: 0.0326\n",
            "val Loss: 0.0310\n",
            "\n",
            "Epoch 7/19\n",
            "----------\n",
            "train Loss: 0.0296\n",
            "val Loss: 0.0285\n",
            "\n",
            "Epoch 8/19\n",
            "----------\n",
            "train Loss: 0.0276\n",
            "val Loss: 0.0269\n",
            "\n",
            "Epoch 9/19\n",
            "----------\n",
            "train Loss: 0.0261\n",
            "val Loss: 0.0256\n",
            "\n",
            "Epoch 10/19\n",
            "----------\n",
            "train Loss: 0.0249\n",
            "val Loss: 0.0245\n",
            "\n",
            "Epoch 11/19\n",
            "----------\n",
            "train Loss: 0.0238\n",
            "val Loss: 0.0234\n",
            "\n",
            "Epoch 12/19\n",
            "----------\n",
            "train Loss: 0.0228\n",
            "val Loss: 0.0225\n",
            "\n",
            "Epoch 13/19\n",
            "----------\n",
            "train Loss: 0.0220\n",
            "val Loss: 0.0218\n",
            "\n",
            "Epoch 14/19\n",
            "----------\n",
            "train Loss: 0.0213\n",
            "val Loss: 0.0211\n",
            "\n",
            "Epoch 15/19\n",
            "----------\n",
            "train Loss: 0.0206\n",
            "val Loss: 0.0204\n",
            "\n",
            "Epoch 16/19\n",
            "----------\n",
            "train Loss: 0.0200\n",
            "val Loss: 0.0198\n",
            "\n",
            "Epoch 17/19\n",
            "----------\n",
            "train Loss: 0.0194\n",
            "val Loss: 0.0193\n",
            "\n",
            "Epoch 18/19\n",
            "----------\n",
            "train Loss: 0.0189\n",
            "val Loss: 0.0187\n",
            "\n",
            "Epoch 19/19\n",
            "----------\n",
            "train Loss: 0.0183\n",
            "val Loss: 0.0183\n",
            "\n",
            "Training complete in 1m 26s\n",
            "Best val Loss: 0.018251\n"
          ],
          "name": "stdout"
        }
      ]
    },
    {
      "cell_type": "code",
      "metadata": {
        "id": "c7ru3Gq-VQPX",
        "colab": {
          "base_uri": "https://localhost:8080/",
          "height": 279
        },
        "outputId": "4ff61a0d-ac15-4dab-b3ea-11cf1144e415"
      },
      "source": [
        "plt.plot(train_loss_history, label='train')\n",
        "plt.plot(val_loss_history, label='val')\n",
        "plt.xlabel('epoch')\n",
        "plt.ylabel('loss')\n",
        "plt.legend()\n",
        "plt.show()"
      ],
      "execution_count": null,
      "outputs": [
        {
          "output_type": "display_data",
          "data": {
            "image/png": "[encoded data removed]",
            "text/plain": [
              "<Figure size 432x288 with 1 Axes>"
            ]
          },
          "metadata": {
            "tags": [],
            "needs_background": "light"
          }
        }
      ]
    },
    {
      "cell_type": "code",
      "metadata": {
        "id": "i4OOPlpveiFL",
        "colab": {
          "base_uri": "https://localhost:8080/"
        },
        "outputId": "21c19de6-9f61-4113-8822-8ffadc469900"
      },
      "source": [
        "with torch.no_grad():\n",
        "  running_loss = 0.0\n",
        "  for inputs, labels in dataloaders['test']:\n",
        "      noise = nn.init.normal_(torch.FloatTensor(inputs.size(0), 1, 28, 28), 0, 0.1)\n",
        "      noise = noise.to(device)\n",
        "      inputs = inputs.to(device)\n",
        "      noise_inputs = inputs + noise\n",
        "\n",
        "      outputs, encoded = best_model_D(noise_inputs)\n",
        "      test_loss = loss_func(outputs, inputs)\n",
        "      \n",
        "      running_loss += test_loss.item()* inputs.size(0)\n",
        "\n",
        "  test_loss = running_loss / len(dataloaders['test'].dataset)\n",
        "  print(test_loss) "
      ],
      "execution_count": null,
      "outputs": [
        {
          "output_type": "stream",
          "text": [
            "0.017638002248108388\n"
          ],
          "name": "stdout"
        }
      ]
    },
    {
      "cell_type": "code",
      "metadata": {
        "id": "e_VzzQ4Te1Gm",
        "colab": {
          "base_uri": "https://localhost:8080/",
          "height": 954
        },
        "outputId": "04f762ba-af7e-426a-8dd8-75a2a19459d5"
      },
      "source": [
        "out_img = torch.squeeze(outputs.cpu().data)\n",
        "print(out_img.size())\n",
        "\n",
        "for i in range(5):\n",
        "    plt.subplot(1,2,1)\n",
        "    plt.imshow(torch.squeeze(noise_inputs[i]).cpu().numpy(),cmap='gray')\n",
        "    plt.subplot(1,2,2)\n",
        "    plt.imshow(out_img[i].numpy(),cmap='gray')\n",
        "    plt.show()\n",
        "\n",
        "# input images have some noises, but our autoencoder learns meaningful pattern and reconstructed it well.\n"
      ],
      "execution_count": null,
      "outputs": [
        {
          "output_type": "stream",
          "text": [
            "torch.Size([16, 28, 28])\n"
          ],
          "name": "stdout"
        },
        {
          "output_type": "display_data",
          "data": {
            "image/png": "[encoded data removed]",
            "text/plain": [
              "<Figure size 432x288 with 2 Axes>"
            ]
          },
          "metadata": {
            "tags": [],
            "needs_background": "light"
          }
        },
        {
          "output_type": "display_data",
          "data": {
            "image/png": "[encoded data removed]",
            "text/plain": [
              "<Figure size 432x288 with 2 Axes>"
            ]
          },
          "metadata": {
            "tags": [],
            "needs_background": "light"
          }
        },
        {
          "output_type": "display_data",
          "data": {
            "image/png": "[encoded data removed]",
            "text/plain": [
              "<Figure size 432x288 with 2 Axes>"
            ]
          },
          "metadata": {
            "tags": [],
            "needs_background": "light"
          }
        },
        {
          "output_type": "display_data",
          "data": {
            "image/png": "[encoded data removed]",
            "text/plain": [
              "<Figure size 432x288 with 2 Axes>"
            ]
          },
          "metadata": {
            "tags": [],
            "needs_background": "light"
          }
        },
        {
          "output_type": "display_data",
          "data": {
            "image/png": "[encoded data removed]",
            "text/plain": [
              "<Figure size 432x288 with 2 Axes>"
            ]
          },
          "metadata": {
            "tags": [],
            "needs_background": "light"
          }
        }
      ]
    },
    {
      "cell_type": "code",
      "metadata": {
        "id": "clHU0awFiOe8"
      },
      "source": [
        ""
      ],
      "execution_count": null,
      "outputs": []
    },
    {
      "cell_type": "code",
      "metadata": {
        "id": "I5tAcWcqfQvi"
      },
      "source": [
        ""
      ],
      "execution_count": null,
      "outputs": []
    }
  ]
}
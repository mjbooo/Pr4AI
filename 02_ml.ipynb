{
  "nbformat": 4,
  "nbformat_minor": 0,
  "metadata": {
    "kernelspec": {
      "display_name": "Python 3",
      "language": "python",
      "name": "python3"
    },
    "language_info": {
      "codemirror_mode": {
        "name": "ipython",
        "version": 3
      },
      "file_extension": ".py",
      "mimetype": "text/x-python",
      "name": "python",
      "nbconvert_exporter": "python",
      "pygments_lexer": "ipython3",
      "version": "3.7.6"
    },
    "colab": {
      "name": "02_ml.ipynb",
      "provenance": [],
      "collapsed_sections": [],
      "include_colab_link": true
    }
  },
  "cells": [
    {
      "cell_type": "markdown",
      "metadata": {
        "id": "view-in-github",
        "colab_type": "text"
      },
      "source": [
        "<a href=\"https://colab.research.google.com/github/mjbooo/Pr4AI/blob/main/02_ml.ipynb\" target=\"_parent\"><img src=\"https://colab.research.google.com/assets/colab-badge.svg\" alt=\"Open In Colab\"/></a>"
      ]
    },
    {
      "cell_type": "markdown",
      "metadata": {
        "id": "DzWg3I34cZCh"
      },
      "source": [
        "## Today's Practice Topics\n",
        "1. ### Data Plotting\n",
        "2. ### Generating Samples\n",
        "3. ### Regression (Overfitting, underfitting)\n",
        "4. ### Data Loading\n",
        "5. ### Classification"
      ]
    },
    {
      "cell_type": "code",
      "metadata": {
        "id": "iYXUHP3IBhRW"
      },
      "source": [
        "# Question\n",
        "  # the difference b.w (5, ) & (5, 1)?"
      ],
      "execution_count": null,
      "outputs": []
    },
    {
      "cell_type": "code",
      "metadata": {
        "id": "D7RwvPSFcZCz"
      },
      "source": [
        "import numpy as np\n",
        "from matplotlib import pyplot as plt  # Anything can be found in matplotlib.org. Just google it\n",
        "import sklearn"
      ],
      "execution_count": null,
      "outputs": []
    },
    {
      "cell_type": "markdown",
      "metadata": {
        "id": "gjj_pfgucZC2"
      },
      "source": [
        "### Matplotlib Example"
      ]
    },
    {
      "cell_type": "code",
      "metadata": {
        "colab": {
          "base_uri": "https://localhost:8080/",
          "height": 279
        },
        "id": "bhTIBjFtcZC3",
        "outputId": "dfb3b5d4-2af3-4b9c-8f84-a230705819d9"
      },
      "source": [
        "plt.plot([1,2,3, -2], [3,2,1,0.5])    # plot=line\n",
        "plt.scatter([1,2,3], [3,2,1]) # scatter=dot\n",
        "plt.plot(np.arange(10), np.arange(10))\n",
        "plt.scatter(np.arange(10), np.arange(10))  # can carry multiple mplot\n",
        "plt.xlabel('sth')\n",
        "plt.ylabel('happiness')\n",
        "\n",
        "plt.show()  # colab notebook: automatically plots the graph w/o show, the other ide don't."
      ],
      "execution_count": null,
      "outputs": [
        {
          "output_type": "display_data",
          "data": {
            "image/png": "[encoded data removed]",
            "text/plain": [
              "<Figure size 432x288 with 1 Axes>"
            ]
          },
          "metadata": {
            "tags": [],
            "needs_background": "light"
          }
        }
      ]
    },
    {
      "cell_type": "code",
      "metadata": {
        "colab": {
          "base_uri": "https://localhost:8080/",
          "height": 573
        },
        "id": "62SAyhSl3cjX",
        "outputId": "a02c22a5-a319-4c07-9394-dfa03792a296"
      },
      "source": [
        "# Practice\n",
        "\n",
        "def ftn_log(x):\n",
        "  return np.log(x)\n",
        "\n",
        "x = np.arange(1,10,0.5)\n",
        "y= ftn_log(x)\n",
        "\n",
        "plt.plot(x,y) # plt.plot(x_list, y_list)\n",
        "plt.title('plt.plot')\n",
        "plt.xlabel('x');  plt.ylabel('y')\n",
        "plt.show()\n",
        "\n",
        "plt.scatter(x,y)\n",
        "plt.title('plt.scatter')\n",
        "plt.xlabel('x');  plt.ylabel('y')\n",
        "plt.show()"
      ],
      "execution_count": null,
      "outputs": [
        {
          "output_type": "display_data",
          "data": {
            "image/png": "[encoded data removed]",
            "text/plain": [
              "<Figure size 432x288 with 1 Axes>"
            ]
          },
          "metadata": {
            "tags": [],
            "needs_background": "light"
          }
        },
        {
          "output_type": "display_data",
          "data": {
            "image/png": "[encoded data removed]",
            "text/plain": [
              "<Figure size 432x288 with 1 Axes>"
            ]
          },
          "metadata": {
            "tags": [],
            "needs_background": "light"
          }
        }
      ]
    },
    {
      "cell_type": "code",
      "metadata": {
        "id": "kukHZP3fcZC5"
      },
      "source": [
        "def draw_plot(X, Y, x_sample, y_sample):  \n",
        "    for i in range(len(X)): # X, Y: go through the list (not nd.array)\n",
        "        plt.plot(X[i], Y[i])\n",
        "    plt.scatter(x_sample, y_sample)\n",
        "    plt.xlabel('x')\n",
        "    plt.ylabel('y')\n",
        "    plt.axhline(0, color='yellow')  # axhline = axis, horizontal line\n",
        "    plt.axvline(0, color='purple')  # axvline = axis, vertical line\n",
        "    plt.show()"
      ],
      "execution_count": null,
      "outputs": []
    },
    {
      "cell_type": "code",
      "metadata": {
        "colab": {
          "base_uri": "https://localhost:8080/",
          "height": 279
        },
        "id": "1VZBLmcQ51uv",
        "outputId": "01fe7f90-59a1-42eb-e2ff-62a087e852fc"
      },
      "source": [
        "draw_plot(x, y, x, y)"
      ],
      "execution_count": null,
      "outputs": [
        {
          "output_type": "display_data",
          "data": {
            "image/png": "[encoded data removed]",
            "text/plain": [
              "<Figure size 432x288 with 1 Axes>"
            ]
          },
          "metadata": {
            "tags": [],
            "needs_background": "light"
          }
        }
      ]
    },
    {
      "cell_type": "markdown",
      "metadata": {
        "id": "D3ThXkT5cZC6"
      },
      "source": [
        "### Drawing a function"
      ]
    },
    {
      "cell_type": "code",
      "metadata": {
        "colab": {
          "base_uri": "https://localhost:8080/",
          "height": 300
        },
        "id": "H-mZh2pQcZC7",
        "outputId": "a55b00b9-7797-4d6e-e5cf-ec035e840d8d"
      },
      "source": [
        "foo = lambda x: -(2/7*x**3-9/2*x**2+15*x-10.)\n",
        "x_line = np.linspace(0, 10, 100) # np,linspace: evenly distributed sample (start, end, # of elem in the list)\n",
        "y_line = foo(x_line)\n",
        "\n",
        "#print(x_line)\n",
        "print(type(x_line))\n",
        "print(type([x_line]))\n"
      ],
      "execution_count": null,
      "outputs": [
        {
          "output_type": "stream",
          "text": [
            "<class 'numpy.ndarray'>\n",
            "<class 'list'>\n"
          ],
          "name": "stdout"
        },
        {
          "output_type": "display_data",
          "data": {
            "image/png": "[encoded data removed]",
            "text/plain": [
              "<Figure size 432x288 with 1 Axes>"
            ]
          },
          "metadata": {
            "tags": [],
            "needs_background": "light"
          }
        }
      ]
    },
    {
      "cell_type": "code",
      "metadata": {
        "colab": {
          "base_uri": "https://localhost:8080/",
          "height": 530
        },
        "id": "BxyWtAsV-krR",
        "outputId": "73238d03-2e75-45c3-dc88-308f9ae868ee"
      },
      "source": [
        "# plt.plot: list vs. nd.array (plt.scatter() is ok for both dtype)\n",
        "print(len(x_line))\n",
        "for i in range(len(x_line)): # X, Y: go through the list (not nd.array)\n",
        "  plt.plot(x_line[i], y_line[i])\n",
        "  #print(x_line[i], y_line[i])\n",
        "plt.show()\n",
        "\n",
        "x_list = [x_line];  y_list = [y_line]\n",
        "for i in range(len(x_list)): # X, Y: go through the list (not nd.array)\n",
        "  plt.plot(x_list[i], y_list[i])\n",
        "plt.show()"
      ],
      "execution_count": null,
      "outputs": [
        {
          "output_type": "stream",
          "text": [
            "100\n"
          ],
          "name": "stdout"
        },
        {
          "output_type": "display_data",
          "data": {
            "image/png": "[encoded data removed]",
            "text/plain": [
              "<Figure size 432x288 with 1 Axes>"
            ]
          },
          "metadata": {
            "tags": [],
            "needs_background": "light"
          }
        },
        {
          "output_type": "display_data",
          "data": {
            "image/png": "[encoded data removed]",
            "text/plain": [
              "<Figure size 432x288 with 1 Axes>"
            ]
          },
          "metadata": {
            "tags": [],
            "needs_background": "light"
          }
        }
      ]
    },
    {
      "cell_type": "code",
      "metadata": {
        "colab": {
          "base_uri": "https://localhost:8080/",
          "height": 541
        },
        "id": "MF5oZlVI6VgH",
        "outputId": "648df454-0393-44a3-be91-dfc26f85699d"
      },
      "source": [
        "# Quiz: Draw the function foo using x_line\n",
        "# type(x_line) = numpy.ndarray\n",
        "# type([x_line]) = list\n",
        "\n",
        "draw_plot(x_line, foo(x_line),x_line, foo(x_line)) \n",
        "draw_plot([x_line], [foo(x_line)],x_line, foo(x_line)) \n"
      ],
      "execution_count": null,
      "outputs": [
        {
          "output_type": "display_data",
          "data": {
            "image/png": "[encoded data removed]",
            "text/plain": [
              "<Figure size 432x288 with 1 Axes>"
            ]
          },
          "metadata": {
            "tags": [],
            "needs_background": "light"
          }
        },
        {
          "output_type": "display_data",
          "data": {
            "image/png": "[encoded data removed]",
            "text/plain": [
              "<Figure size 432x288 with 1 Axes>"
            ]
          },
          "metadata": {
            "tags": [],
            "needs_background": "light"
          }
        }
      ]
    },
    {
      "cell_type": "code",
      "metadata": {
        "colab": {
          "base_uri": "https://localhost:8080/",
          "height": 279
        },
        "id": "BwW00EN97jDo",
        "outputId": "b475033c-755e-4e2c-c96f-f7c2055bad6c"
      },
      "source": [
        "# Quiz: Create symmetric graph along a line x=y\n",
        "draw_plot([foo(x_line)], [x_line],x_line, foo(x_line))"
      ],
      "execution_count": null,
      "outputs": [
        {
          "output_type": "display_data",
          "data": {
            "image/png": "[encoded data removed]",
            "text/plain": [
              "<Figure size 432x288 with 1 Axes>"
            ]
          },
          "metadata": {
            "tags": [],
            "needs_background": "light"
          }
        }
      ]
    },
    {
      "cell_type": "code",
      "metadata": {
        "colab": {
          "base_uri": "https://localhost:8080/",
          "height": 279
        },
        "id": "qHKoe4E160LQ",
        "outputId": "41aa75ef-3455-451e-e4ad-99c27424ffcc"
      },
      "source": [
        "# Quiz: Sample 5 points of foo in the domain [0, 10] and visualize with draw_plot\n",
        "x_sample = np.linspace(0, 10, 5)\n",
        "y_sample = foo(x_sample)\n",
        "draw_plot([x_line], [foo(x_line)], x_sample, y_sample)"
      ],
      "execution_count": null,
      "outputs": [
        {
          "output_type": "display_data",
          "data": {
            "image/png": "[encoded data removed]",
            "text/plain": [
              "<Figure size 432x288 with 1 Axes>"
            ]
          },
          "metadata": {
            "tags": [],
            "needs_background": "light"
          }
        }
      ]
    },
    {
      "cell_type": "code",
      "metadata": {
        "colab": {
          "base_uri": "https://localhost:8080/",
          "height": 279
        },
        "id": "HRemB3-U8WDG",
        "outputId": "51148ead-a4e7-41c2-80e1-8520f6d6612e"
      },
      "source": [
        "# Quiz: Sample 20 points of foo in the domain [0, 15] and visualize with draw_plot\n",
        "\n",
        "x_sample = np.linspace(0, 15, 20)\n",
        "y_sample = foo(x_sample)\n",
        "\n",
        "draw_plot([x_line], [foo(x_line)], x_sample, foo(x_sample))"
      ],
      "execution_count": null,
      "outputs": [
        {
          "output_type": "display_data",
          "data": {
            "image/png": "[encoded data removed]",
            "text/plain": [
              "<Figure size 432x288 with 1 Axes>"
            ]
          },
          "metadata": {
            "tags": [],
            "needs_background": "light"
          }
        }
      ]
    },
    {
      "cell_type": "code",
      "metadata": {
        "colab": {
          "base_uri": "https://localhost:8080/",
          "height": 282
        },
        "id": "_oN2aVCd6xfi",
        "outputId": "946077fa-4f0b-48b7-c0dc-efbc76e4b459"
      },
      "source": [
        "# Quiz: Sample 5 points of foo in the domain [0, 10] with Gaussian noise where mu=0, sigma=0.1 and visualize.\n",
        "x_sample = np.linspace(0, 10, 5)\n",
        "np.random.seed(seed=0)\n",
        "y_sample = foo(x_sample)+ np.random.normal(0, 1.5, 5) # list+ list (made by random, not just single integer which would be broadcasted)\n",
        "draw_plot([x_line], [foo(x_line)], x_sample, y_sample)"
      ],
      "execution_count": null,
      "outputs": [
        {
          "output_type": "display_data",
          "data": {
            "image/png": "[encoded data removed]",
            "text/plain": [
              "<Figure size 432x288 with 1 Axes>"
            ]
          },
          "metadata": {
            "tags": [],
            "needs_background": "light"
          }
        }
      ]
    },
    {
      "cell_type": "code",
      "metadata": {
        "colab": {
          "base_uri": "https://localhost:8080/",
          "height": 279
        },
        "id": "tfDfeVt-88Uw",
        "outputId": "079674f7-376b-408c-b115-7dc6968638fa"
      },
      "source": [
        "# Quiz: Sample 5 points of foo in the domain [0, 5] with Gaussian noise where mu=0, sigma=3 and visualize.\n",
        "\n",
        "x_sample = np.linspace(0, 5, 5)\n",
        "y_sample = foo(x_sample) + np.random.normal(0, 3, 5)\n",
        "\n",
        "draw_plot([x_line[x_line<5]], [foo(x_line[x_line<5])], x_sample, y_sample)\n",
        "#draw_plot(x_line, foo(x_line), x_sample, y_sample)\n",
        "\n"
      ],
      "execution_count": null,
      "outputs": [
        {
          "output_type": "display_data",
          "data": {
            "image/png": "[encoded data removed]",
            "text/plain": [
              "<Figure size 432x288 with 1 Axes>"
            ]
          },
          "metadata": {
            "tags": [],
            "needs_background": "light"
          }
        }
      ]
    },
    {
      "cell_type": "markdown",
      "metadata": {
        "id": "-iMw6A_CcZC8"
      },
      "source": [
        "### Linear Regression"
      ]
    },
    {
      "cell_type": "code",
      "metadata": {
        "id": "f42ccjSAcZC-"
      },
      "source": [
        "from sklearn.linear_model import LinearRegression # All sklearn: same pattern to tr & te\n",
        "\n",
        "# Defining a linear regression model.\n",
        "lr = LinearRegression() # instantiating the LR class"
      ],
      "execution_count": null,
      "outputs": []
    },
    {
      "cell_type": "code",
      "metadata": {
        "colab": {
          "base_uri": "https://localhost:8080/",
          "height": 562
        },
        "id": "03TLAmWCAn61",
        "outputId": "b0db3795-ca8a-4d2f-8eba-2f1e58c45a0c"
      },
      "source": [
        "# Training the linear regression model.\n",
        "print(type(x_sample))\n",
        "print('x_sample:', x_sample.shape, x_sample) # w/o None, x_sample causes error (cause it's a single dimensioanl feature). \n",
        "print('x_sample[:, None]: ', x_sample[:, None].shape, x_sample[:, None])  # The input should be multi dimensional by adding new axis\n",
        "\n",
        "# y_sample: already a vector\n",
        "print('y_sample:', y_sample.shape)\n",
        "print('y_sample[:,None]:', y_sample[:,None].shape)\n",
        "\n",
        "lr.fit(x_sample[:, None], y_sample) # fit= training\n",
        "lr.fit(x_sample[:, None], y_sample[:,None]) # fit= training\n",
        "lr.fit(x_sample, y_sample) # x_sample -> ValueError: Expected 2D array, got 1D array instead:"
      ],
      "execution_count": null,
      "outputs": [
        {
          "output_type": "stream",
          "text": [
            "<class 'numpy.ndarray'>\n",
            "x_sample: (5,) [0.   1.25 2.5  3.75 5.  ]\n",
            "x_sample[:, None]:  (5, 1) [[0.  ]\n",
            " [1.25]\n",
            " [2.5 ]\n",
            " [3.75]\n",
            " [5.  ]]\n",
            "y_sample: (5,)\n",
            "y_sample[:,None]: (5, 1)\n"
          ],
          "name": "stdout"
        },
        {
          "output_type": "error",
          "ename": "ValueError",
          "evalue": "ignored",
          "traceback": [
            "\u001b[0;31m---------------------------------------------------------------------------\u001b[0m",
            "\u001b[0;31mValueError\u001b[0m                                Traceback (most recent call last)",
            "\u001b[0;32m<ipython-input-125-6bed6e111e0d>\u001b[0m in \u001b[0;36m<module>\u001b[0;34m()\u001b[0m\n\u001b[1;32m     10\u001b[0m \u001b[0mlr\u001b[0m\u001b[0;34m.\u001b[0m\u001b[0mfit\u001b[0m\u001b[0;34m(\u001b[0m\u001b[0mx_sample\u001b[0m\u001b[0;34m[\u001b[0m\u001b[0;34m:\u001b[0m\u001b[0;34m,\u001b[0m \u001b[0;32mNone\u001b[0m\u001b[0;34m]\u001b[0m\u001b[0;34m,\u001b[0m \u001b[0my_sample\u001b[0m\u001b[0;34m)\u001b[0m \u001b[0;31m# fit= training\u001b[0m\u001b[0;34m\u001b[0m\u001b[0;34m\u001b[0m\u001b[0m\n\u001b[1;32m     11\u001b[0m \u001b[0mlr\u001b[0m\u001b[0;34m.\u001b[0m\u001b[0mfit\u001b[0m\u001b[0;34m(\u001b[0m\u001b[0mx_sample\u001b[0m\u001b[0;34m[\u001b[0m\u001b[0;34m:\u001b[0m\u001b[0;34m,\u001b[0m \u001b[0;32mNone\u001b[0m\u001b[0;34m]\u001b[0m\u001b[0;34m,\u001b[0m \u001b[0my_sample\u001b[0m\u001b[0;34m[\u001b[0m\u001b[0;34m:\u001b[0m\u001b[0;34m,\u001b[0m\u001b[0;32mNone\u001b[0m\u001b[0;34m]\u001b[0m\u001b[0;34m)\u001b[0m \u001b[0;31m# fit= training\u001b[0m\u001b[0;34m\u001b[0m\u001b[0;34m\u001b[0m\u001b[0m\n\u001b[0;32m---> 12\u001b[0;31m \u001b[0mlr\u001b[0m\u001b[0;34m.\u001b[0m\u001b[0mfit\u001b[0m\u001b[0;34m(\u001b[0m\u001b[0mx_sample\u001b[0m\u001b[0;34m,\u001b[0m \u001b[0my_sample\u001b[0m\u001b[0;34m)\u001b[0m \u001b[0;31m# x_sample -> ValueError: Expected 2D array, got 1D array instead:\u001b[0m\u001b[0;34m\u001b[0m\u001b[0;34m\u001b[0m\u001b[0m\n\u001b[0m",
            "\u001b[0;32m/usr/local/lib/python3.7/dist-packages/sklearn/linear_model/_base.py\u001b[0m in \u001b[0;36mfit\u001b[0;34m(self, X, y, sample_weight)\u001b[0m\n\u001b[1;32m    490\u001b[0m         \u001b[0mn_jobs_\u001b[0m \u001b[0;34m=\u001b[0m \u001b[0mself\u001b[0m\u001b[0;34m.\u001b[0m\u001b[0mn_jobs\u001b[0m\u001b[0;34m\u001b[0m\u001b[0;34m\u001b[0m\u001b[0m\n\u001b[1;32m    491\u001b[0m         X, y = check_X_y(X, y, accept_sparse=['csr', 'csc', 'coo'],\n\u001b[0;32m--> 492\u001b[0;31m                          y_numeric=True, multi_output=True)\n\u001b[0m\u001b[1;32m    493\u001b[0m \u001b[0;34m\u001b[0m\u001b[0m\n\u001b[1;32m    494\u001b[0m         \u001b[0;32mif\u001b[0m \u001b[0msample_weight\u001b[0m \u001b[0;32mis\u001b[0m \u001b[0;32mnot\u001b[0m \u001b[0;32mNone\u001b[0m\u001b[0;34m:\u001b[0m\u001b[0;34m\u001b[0m\u001b[0;34m\u001b[0m\u001b[0m\n",
            "\u001b[0;32m/usr/local/lib/python3.7/dist-packages/sklearn/utils/validation.py\u001b[0m in \u001b[0;36mcheck_X_y\u001b[0;34m(X, y, accept_sparse, accept_large_sparse, dtype, order, copy, force_all_finite, ensure_2d, allow_nd, multi_output, ensure_min_samples, ensure_min_features, y_numeric, warn_on_dtype, estimator)\u001b[0m\n\u001b[1;32m    753\u001b[0m                     \u001b[0mensure_min_features\u001b[0m\u001b[0;34m=\u001b[0m\u001b[0mensure_min_features\u001b[0m\u001b[0;34m,\u001b[0m\u001b[0;34m\u001b[0m\u001b[0;34m\u001b[0m\u001b[0m\n\u001b[1;32m    754\u001b[0m                     \u001b[0mwarn_on_dtype\u001b[0m\u001b[0;34m=\u001b[0m\u001b[0mwarn_on_dtype\u001b[0m\u001b[0;34m,\u001b[0m\u001b[0;34m\u001b[0m\u001b[0;34m\u001b[0m\u001b[0m\n\u001b[0;32m--> 755\u001b[0;31m                     estimator=estimator)\n\u001b[0m\u001b[1;32m    756\u001b[0m     \u001b[0;32mif\u001b[0m \u001b[0mmulti_output\u001b[0m\u001b[0;34m:\u001b[0m\u001b[0;34m\u001b[0m\u001b[0;34m\u001b[0m\u001b[0m\n\u001b[1;32m    757\u001b[0m         y = check_array(y, 'csr', force_all_finite=True, ensure_2d=False,\n",
            "\u001b[0;32m/usr/local/lib/python3.7/dist-packages/sklearn/utils/validation.py\u001b[0m in \u001b[0;36mcheck_array\u001b[0;34m(array, accept_sparse, accept_large_sparse, dtype, order, copy, force_all_finite, ensure_2d, allow_nd, ensure_min_samples, ensure_min_features, warn_on_dtype, estimator)\u001b[0m\n\u001b[1;32m    554\u001b[0m                     \u001b[0;34m\"Reshape your data either using array.reshape(-1, 1) if \"\u001b[0m\u001b[0;34m\u001b[0m\u001b[0;34m\u001b[0m\u001b[0m\n\u001b[1;32m    555\u001b[0m                     \u001b[0;34m\"your data has a single feature or array.reshape(1, -1) \"\u001b[0m\u001b[0;34m\u001b[0m\u001b[0;34m\u001b[0m\u001b[0m\n\u001b[0;32m--> 556\u001b[0;31m                     \"if it contains a single sample.\".format(array))\n\u001b[0m\u001b[1;32m    557\u001b[0m \u001b[0;34m\u001b[0m\u001b[0m\n\u001b[1;32m    558\u001b[0m         \u001b[0;31m# in the future np.flexible dtypes will be handled like object dtypes\u001b[0m\u001b[0;34m\u001b[0m\u001b[0;34m\u001b[0m\u001b[0;34m\u001b[0m\u001b[0m\n",
            "\u001b[0;31mValueError\u001b[0m: Expected 2D array, got 1D array instead:\narray=[0.   1.25 2.5  3.75 5.  ].\nReshape your data either using array.reshape(-1, 1) if your data has a single feature or array.reshape(1, -1) if it contains a single sample."
          ]
        }
      ]
    },
    {
      "cell_type": "code",
      "metadata": {
        "colab": {
          "base_uri": "https://localhost:8080/",
          "height": 422
        },
        "id": "F6Ds8UuWAtWC",
        "outputId": "3ddaaea0-91f8-4ac0-bbad-45fdbabc0db2"
      },
      "source": [
        "# Coefficient of Determination (i.e. R^2, R Squared)\n",
        "r2 = lr.score(x_sample[:, None], y_sample)\n",
        "print(\"R^2:%f\" % r2)\n",
        "\n",
        "r2 = lr.score(x_sample, y_sample) \n",
        "# ValueError: Expected 2D array, got 1D array instead. \n",
        "# Reshape your data either using array.reshape(-1, 1) if your data has a single feature or array.reshape(1, -1) if it contains a single sample."
      ],
      "execution_count": null,
      "outputs": [
        {
          "output_type": "stream",
          "text": [
            "R^2:0.106150\n"
          ],
          "name": "stdout"
        },
        {
          "output_type": "error",
          "ename": "ValueError",
          "evalue": "ignored",
          "traceback": [
            "\u001b[0;31m---------------------------------------------------------------------------\u001b[0m",
            "\u001b[0;31mValueError\u001b[0m                                Traceback (most recent call last)",
            "\u001b[0;32m<ipython-input-117-1bb846c015d4>\u001b[0m in \u001b[0;36m<module>\u001b[0;34m()\u001b[0m\n\u001b[1;32m      2\u001b[0m \u001b[0mr2\u001b[0m \u001b[0;34m=\u001b[0m \u001b[0mlr\u001b[0m\u001b[0;34m.\u001b[0m\u001b[0mscore\u001b[0m\u001b[0;34m(\u001b[0m\u001b[0mx_sample\u001b[0m\u001b[0;34m[\u001b[0m\u001b[0;34m:\u001b[0m\u001b[0;34m,\u001b[0m \u001b[0;32mNone\u001b[0m\u001b[0;34m]\u001b[0m\u001b[0;34m,\u001b[0m \u001b[0my_sample\u001b[0m\u001b[0;34m)\u001b[0m\u001b[0;34m\u001b[0m\u001b[0;34m\u001b[0m\u001b[0m\n\u001b[1;32m      3\u001b[0m \u001b[0mprint\u001b[0m\u001b[0;34m(\u001b[0m\u001b[0;34m\"R^2:%f\"\u001b[0m \u001b[0;34m%\u001b[0m \u001b[0mr2\u001b[0m\u001b[0;34m)\u001b[0m\u001b[0;34m\u001b[0m\u001b[0;34m\u001b[0m\u001b[0m\n\u001b[0;32m----> 4\u001b[0;31m \u001b[0mr2\u001b[0m \u001b[0;34m=\u001b[0m \u001b[0mlr\u001b[0m\u001b[0;34m.\u001b[0m\u001b[0mscore\u001b[0m\u001b[0;34m(\u001b[0m\u001b[0mx_sample\u001b[0m\u001b[0;34m,\u001b[0m \u001b[0my_sample\u001b[0m\u001b[0;34m)\u001b[0m\u001b[0;34m\u001b[0m\u001b[0;34m\u001b[0m\u001b[0m\n\u001b[0m",
            "\u001b[0;32m/usr/local/lib/python3.7/dist-packages/sklearn/base.py\u001b[0m in \u001b[0;36mscore\u001b[0;34m(self, X, y, sample_weight)\u001b[0m\n\u001b[1;32m    420\u001b[0m         \u001b[0;32mfrom\u001b[0m \u001b[0;34m.\u001b[0m\u001b[0mmetrics\u001b[0m \u001b[0;32mimport\u001b[0m \u001b[0mr2_score\u001b[0m\u001b[0;34m\u001b[0m\u001b[0;34m\u001b[0m\u001b[0m\n\u001b[1;32m    421\u001b[0m         \u001b[0;32mfrom\u001b[0m \u001b[0;34m.\u001b[0m\u001b[0mmetrics\u001b[0m\u001b[0;34m.\u001b[0m\u001b[0m_regression\u001b[0m \u001b[0;32mimport\u001b[0m \u001b[0m_check_reg_targets\u001b[0m\u001b[0;34m\u001b[0m\u001b[0;34m\u001b[0m\u001b[0m\n\u001b[0;32m--> 422\u001b[0;31m         \u001b[0my_pred\u001b[0m \u001b[0;34m=\u001b[0m \u001b[0mself\u001b[0m\u001b[0;34m.\u001b[0m\u001b[0mpredict\u001b[0m\u001b[0;34m(\u001b[0m\u001b[0mX\u001b[0m\u001b[0;34m)\u001b[0m\u001b[0;34m\u001b[0m\u001b[0;34m\u001b[0m\u001b[0m\n\u001b[0m\u001b[1;32m    423\u001b[0m         \u001b[0;31m# XXX: Remove the check in 0.23\u001b[0m\u001b[0;34m\u001b[0m\u001b[0;34m\u001b[0m\u001b[0;34m\u001b[0m\u001b[0m\n\u001b[1;32m    424\u001b[0m         \u001b[0my_type\u001b[0m\u001b[0;34m,\u001b[0m \u001b[0m_\u001b[0m\u001b[0;34m,\u001b[0m \u001b[0m_\u001b[0m\u001b[0;34m,\u001b[0m \u001b[0m_\u001b[0m \u001b[0;34m=\u001b[0m \u001b[0m_check_reg_targets\u001b[0m\u001b[0;34m(\u001b[0m\u001b[0my\u001b[0m\u001b[0;34m,\u001b[0m \u001b[0my_pred\u001b[0m\u001b[0;34m,\u001b[0m \u001b[0;32mNone\u001b[0m\u001b[0;34m)\u001b[0m\u001b[0;34m\u001b[0m\u001b[0;34m\u001b[0m\u001b[0m\n",
            "\u001b[0;32m/usr/local/lib/python3.7/dist-packages/sklearn/linear_model/_base.py\u001b[0m in \u001b[0;36mpredict\u001b[0;34m(self, X)\u001b[0m\n\u001b[1;32m    223\u001b[0m             \u001b[0mReturns\u001b[0m \u001b[0mpredicted\u001b[0m \u001b[0mvalues\u001b[0m\u001b[0;34m.\u001b[0m\u001b[0;34m\u001b[0m\u001b[0;34m\u001b[0m\u001b[0m\n\u001b[1;32m    224\u001b[0m         \"\"\"\n\u001b[0;32m--> 225\u001b[0;31m         \u001b[0;32mreturn\u001b[0m \u001b[0mself\u001b[0m\u001b[0;34m.\u001b[0m\u001b[0m_decision_function\u001b[0m\u001b[0;34m(\u001b[0m\u001b[0mX\u001b[0m\u001b[0;34m)\u001b[0m\u001b[0;34m\u001b[0m\u001b[0;34m\u001b[0m\u001b[0m\n\u001b[0m\u001b[1;32m    226\u001b[0m \u001b[0;34m\u001b[0m\u001b[0m\n\u001b[1;32m    227\u001b[0m     \u001b[0m_preprocess_data\u001b[0m \u001b[0;34m=\u001b[0m \u001b[0mstaticmethod\u001b[0m\u001b[0;34m(\u001b[0m\u001b[0m_preprocess_data\u001b[0m\u001b[0;34m)\u001b[0m\u001b[0;34m\u001b[0m\u001b[0;34m\u001b[0m\u001b[0m\n",
            "\u001b[0;32m/usr/local/lib/python3.7/dist-packages/sklearn/linear_model/_base.py\u001b[0m in \u001b[0;36m_decision_function\u001b[0;34m(self, X)\u001b[0m\n\u001b[1;32m    205\u001b[0m         \u001b[0mcheck_is_fitted\u001b[0m\u001b[0;34m(\u001b[0m\u001b[0mself\u001b[0m\u001b[0;34m)\u001b[0m\u001b[0;34m\u001b[0m\u001b[0;34m\u001b[0m\u001b[0m\n\u001b[1;32m    206\u001b[0m \u001b[0;34m\u001b[0m\u001b[0m\n\u001b[0;32m--> 207\u001b[0;31m         \u001b[0mX\u001b[0m \u001b[0;34m=\u001b[0m \u001b[0mcheck_array\u001b[0m\u001b[0;34m(\u001b[0m\u001b[0mX\u001b[0m\u001b[0;34m,\u001b[0m \u001b[0maccept_sparse\u001b[0m\u001b[0;34m=\u001b[0m\u001b[0;34m[\u001b[0m\u001b[0;34m'csr'\u001b[0m\u001b[0;34m,\u001b[0m \u001b[0;34m'csc'\u001b[0m\u001b[0;34m,\u001b[0m \u001b[0;34m'coo'\u001b[0m\u001b[0;34m]\u001b[0m\u001b[0;34m)\u001b[0m\u001b[0;34m\u001b[0m\u001b[0;34m\u001b[0m\u001b[0m\n\u001b[0m\u001b[1;32m    208\u001b[0m         return safe_sparse_dot(X, self.coef_.T,\n\u001b[1;32m    209\u001b[0m                                dense_output=True) + self.intercept_\n",
            "\u001b[0;32m/usr/local/lib/python3.7/dist-packages/sklearn/utils/validation.py\u001b[0m in \u001b[0;36mcheck_array\u001b[0;34m(array, accept_sparse, accept_large_sparse, dtype, order, copy, force_all_finite, ensure_2d, allow_nd, ensure_min_samples, ensure_min_features, warn_on_dtype, estimator)\u001b[0m\n\u001b[1;32m    554\u001b[0m                     \u001b[0;34m\"Reshape your data either using array.reshape(-1, 1) if \"\u001b[0m\u001b[0;34m\u001b[0m\u001b[0;34m\u001b[0m\u001b[0m\n\u001b[1;32m    555\u001b[0m                     \u001b[0;34m\"your data has a single feature or array.reshape(1, -1) \"\u001b[0m\u001b[0;34m\u001b[0m\u001b[0;34m\u001b[0m\u001b[0m\n\u001b[0;32m--> 556\u001b[0;31m                     \"if it contains a single sample.\".format(array))\n\u001b[0m\u001b[1;32m    557\u001b[0m \u001b[0;34m\u001b[0m\u001b[0m\n\u001b[1;32m    558\u001b[0m         \u001b[0;31m# in the future np.flexible dtypes will be handled like object dtypes\u001b[0m\u001b[0;34m\u001b[0m\u001b[0;34m\u001b[0m\u001b[0;34m\u001b[0m\u001b[0m\n",
            "\u001b[0;31mValueError\u001b[0m: Expected 2D array, got 1D array instead:\narray=[0.   1.25 2.5  3.75 5.  ].\nReshape your data either using array.reshape(-1, 1) if your data has a single feature or array.reshape(1, -1) if it contains a single sample."
          ]
        }
      ]
    },
    {
      "cell_type": "code",
      "metadata": {
        "colab": {
          "base_uri": "https://localhost:8080/"
        },
        "id": "PdEzA3qaC_d8",
        "outputId": "2f5cdca7-3503-4fc2-b7c2-fba5f0a5d4e8"
      },
      "source": [
        "# Predicting a single data point.\n",
        "y_hat = lr.predict(x_sample[:, None])\n",
        "print(y_hat)"
      ],
      "execution_count": null,
      "outputs": [
        {
          "output_type": "stream",
          "text": [
            "[[0.33445393]\n",
            " [1.9766241 ]\n",
            " [3.61879427]\n",
            " [5.26096444]\n",
            " [6.90313461]]\n"
          ],
          "name": "stdout"
        }
      ]
    },
    {
      "cell_type": "code",
      "metadata": {
        "colab": {
          "base_uri": "https://localhost:8080/"
        },
        "id": "n7DkVqEhDj1d",
        "outputId": "82d0c99e-e076-403a-f74d-82ccc29929d3"
      },
      "source": [
        "# Quiz: Calculate Mean Squared Error using x_sample and y_sample and lr.predict()\n",
        "MSE=((y_sample[:,None] - y_hat)**2).mean()\n",
        "# MSE=((y_sample] - y_hat)**2).mean()\n",
        "# Warning!; the difference b.w (n, ) and (n, 1)\n",
        "\n",
        "print('(y_sample[:,None] - y_hat).shape:', (y_sample[:,None] - y_hat).shape)\n",
        "print('(y_sample - y_hat).shape:', (y_sample - y_hat).shape)\n",
        "\n",
        "print(y_sample[:,None] - y_hat)\n",
        "\n",
        "print(MSE)\n",
        "\n"
      ],
      "execution_count": null,
      "outputs": [
        {
          "output_type": "stream",
          "text": [
            "(y_sample[:,None] - y_hat).shape: (5, 1)\n",
            "(y_sample - y_hat).shape: (5, 5)\n",
            "[[ 6.17009654]\n",
            " [-1.55093035]\n",
            " [-6.06109267]\n",
            " [-7.90540978]\n",
            " [ 9.34733626]]\n",
            "45.41610392565251\n"
          ],
          "name": "stdout"
        }
      ]
    },
    {
      "cell_type": "code",
      "metadata": {
        "id": "CkOnYGJgDndg"
      },
      "source": [
        "# Quiz: Use x_line, lr.predict() and draw_plot to visualize the linear regression model,\n",
        "#       in comparison with the original function foo.\n",
        "\n",
        "x_line = np.linspace(0, 10, 100)\n",
        "y_lr= lr.predict(x_line[:,None])\n",
        "draw_plot([x_line, x_line], [y_line, y_lr],x_sample, y_sample)\n",
        "# LR: underfitting case"
      ],
      "execution_count": null,
      "outputs": []
    },
    {
      "cell_type": "markdown",
      "metadata": {
        "id": "M8U1IS1acZC_"
      },
      "source": [
        "### Polynomial Regression"
      ]
    },
    {
      "cell_type": "code",
      "metadata": {
        "id": "6SckjqrQcZC_",
        "colab": {
          "base_uri": "https://localhost:8080/"
        },
        "outputId": "7af2b645-99fb-494e-f48e-8ec2d7ffe316"
      },
      "source": [
        "from sklearn.preprocessing import PolynomialFeatures\n",
        "from sklearn.linear_model import Ridge\n",
        "\n",
        "# Defining a polynomial feature transformer.\n",
        "poly = PolynomialFeatures(degree=5)\n",
        "\n",
        "# Transform the original features to polynomial features.\n",
        "x_sample_poly = poly.fit_transform(x_sample[:, None])\n",
        "print('x_sample:\\n', x_sample)\n",
        "print('\\nx_sample_poly:\\n', x_sample_poly)"
      ],
      "execution_count": null,
      "outputs": [
        {
          "output_type": "stream",
          "text": [
            "x_sample:\n",
            " [0.   1.25 2.5  3.75 5.  ]\n",
            "\n",
            "x_sample_poly:\n",
            " [[1.00000000e+00 0.00000000e+00 0.00000000e+00 0.00000000e+00\n",
            "  0.00000000e+00 0.00000000e+00]\n",
            " [1.00000000e+00 1.25000000e+00 1.56250000e+00 1.95312500e+00\n",
            "  2.44140625e+00 3.05175781e+00]\n",
            " [1.00000000e+00 2.50000000e+00 6.25000000e+00 1.56250000e+01\n",
            "  3.90625000e+01 9.76562500e+01]\n",
            " [1.00000000e+00 3.75000000e+00 1.40625000e+01 5.27343750e+01\n",
            "  1.97753906e+02 7.41577148e+02]\n",
            " [1.00000000e+00 5.00000000e+00 2.50000000e+01 1.25000000e+02\n",
            "  6.25000000e+02 3.12500000e+03]]\n"
          ],
          "name": "stdout"
        }
      ]
    },
    {
      "cell_type": "code",
      "metadata": {
        "id": "c0va9RKWPJgo"
      },
      "source": [
        "# Train a linear regression model using the polynomial features.\n",
        "pr = LinearRegression().fit(x_sample_poly, y_sample)\n",
        "rr = Ridge(alpha=1).fit(x_sample_poly, y_sample)"
      ],
      "execution_count": null,
      "outputs": []
    },
    {
      "cell_type": "code",
      "metadata": {
        "colab": {
          "base_uri": "https://localhost:8080/",
          "height": 279
        },
        "id": "J88SysayQJ5g",
        "outputId": "6f6b9b85-6407-431d-e749-b4d3d35fc66c"
      },
      "source": [
        "# Quiz: Visualize the polynomial regression model, in comparison with foo.\n",
        "x_line_poly= poly.fit_transform(x_line[:,None])\n",
        "y_poly=pr.predict(x_line_poly)\n",
        "y_rr=rr.predict(x_line_poly)\n",
        "#print(y_poly)\n",
        "\n",
        "draw_plot([x_line, x_line, x_line], [foo(x_line), y_poly, y_rr], x_sample, y_sample)\n",
        "\n",
        "# Quiz: What happens if you increase/decrease the degree of the polynomial?"
      ],
      "execution_count": null,
      "outputs": [
        {
          "output_type": "display_data",
          "data": {
            "image/png": "[encoded data removed]",
            "text/plain": [
              "<Figure size 432x288 with 1 Axes>"
            ]
          },
          "metadata": {
            "tags": [],
            "needs_background": "light"
          }
        }
      ]
    },
    {
      "cell_type": "markdown",
      "metadata": {
        "id": "ozufzXKJcZDA"
      },
      "source": [
        "### Iris Dataset"
      ]
    },
    {
      "cell_type": "code",
      "metadata": {
        "id": "T81yJXFicZDA",
        "colab": {
          "base_uri": "https://localhost:8080/"
        },
        "outputId": "a8365a52-0861-45c4-a995-0bb96aeb8e63"
      },
      "source": [
        "data_path = './iris.data'\n",
        "X = []\n",
        "y = []\n",
        "\n",
        "from sklearn.datasets import load_iris\n",
        "X, y= load_iris(return_X_y=True)\n",
        "\n",
        "iris = load_iris()\n",
        "X = iris.data[:, :2]  # we only take the first two features.\n",
        "y = iris.target\n",
        "'''\n",
        "with open(data_path, 'r') as fid:\n",
        "    count = 0\n",
        "    for line in fid:\n",
        "        print(line.strip())\n",
        "'''\n",
        "X = np.array(X)\n",
        "y = np.array(y)\n",
        "\n",
        "print(X)\n",
        "print(y)\n",
        "# Quiz: Fill the above for loop to load the data into X and y.\n"
      ],
      "execution_count": null,
      "outputs": [
        {
          "output_type": "stream",
          "text": [
            "[[5.1 3.5]\n",
            " [4.9 3. ]\n",
            " [4.7 3.2]\n",
            " [4.6 3.1]\n",
            " [5.  3.6]\n",
            " [5.4 3.9]\n",
            " [4.6 3.4]\n",
            " [5.  3.4]\n",
            " [4.4 2.9]\n",
            " [4.9 3.1]\n",
            " [5.4 3.7]\n",
            " [4.8 3.4]\n",
            " [4.8 3. ]\n",
            " [4.3 3. ]\n",
            " [5.8 4. ]\n",
            " [5.7 4.4]\n",
            " [5.4 3.9]\n",
            " [5.1 3.5]\n",
            " [5.7 3.8]\n",
            " [5.1 3.8]\n",
            " [5.4 3.4]\n",
            " [5.1 3.7]\n",
            " [4.6 3.6]\n",
            " [5.1 3.3]\n",
            " [4.8 3.4]\n",
            " [5.  3. ]\n",
            " [5.  3.4]\n",
            " [5.2 3.5]\n",
            " [5.2 3.4]\n",
            " [4.7 3.2]\n",
            " [4.8 3.1]\n",
            " [5.4 3.4]\n",
            " [5.2 4.1]\n",
            " [5.5 4.2]\n",
            " [4.9 3.1]\n",
            " [5.  3.2]\n",
            " [5.5 3.5]\n",
            " [4.9 3.6]\n",
            " [4.4 3. ]\n",
            " [5.1 3.4]\n",
            " [5.  3.5]\n",
            " [4.5 2.3]\n",
            " [4.4 3.2]\n",
            " [5.  3.5]\n",
            " [5.1 3.8]\n",
            " [4.8 3. ]\n",
            " [5.1 3.8]\n",
            " [4.6 3.2]\n",
            " [5.3 3.7]\n",
            " [5.  3.3]\n",
            " [7.  3.2]\n",
            " [6.4 3.2]\n",
            " [6.9 3.1]\n",
            " [5.5 2.3]\n",
            " [6.5 2.8]\n",
            " [5.7 2.8]\n",
            " [6.3 3.3]\n",
            " [4.9 2.4]\n",
            " [6.6 2.9]\n",
            " [5.2 2.7]\n",
            " [5.  2. ]\n",
            " [5.9 3. ]\n",
            " [6.  2.2]\n",
            " [6.1 2.9]\n",
            " [5.6 2.9]\n",
            " [6.7 3.1]\n",
            " [5.6 3. ]\n",
            " [5.8 2.7]\n",
            " [6.2 2.2]\n",
            " [5.6 2.5]\n",
            " [5.9 3.2]\n",
            " [6.1 2.8]\n",
            " [6.3 2.5]\n",
            " [6.1 2.8]\n",
            " [6.4 2.9]\n",
            " [6.6 3. ]\n",
            " [6.8 2.8]\n",
            " [6.7 3. ]\n",
            " [6.  2.9]\n",
            " [5.7 2.6]\n",
            " [5.5 2.4]\n",
            " [5.5 2.4]\n",
            " [5.8 2.7]\n",
            " [6.  2.7]\n",
            " [5.4 3. ]\n",
            " [6.  3.4]\n",
            " [6.7 3.1]\n",
            " [6.3 2.3]\n",
            " [5.6 3. ]\n",
            " [5.5 2.5]\n",
            " [5.5 2.6]\n",
            " [6.1 3. ]\n",
            " [5.8 2.6]\n",
            " [5.  2.3]\n",
            " [5.6 2.7]\n",
            " [5.7 3. ]\n",
            " [5.7 2.9]\n",
            " [6.2 2.9]\n",
            " [5.1 2.5]\n",
            " [5.7 2.8]\n",
            " [6.3 3.3]\n",
            " [5.8 2.7]\n",
            " [7.1 3. ]\n",
            " [6.3 2.9]\n",
            " [6.5 3. ]\n",
            " [7.6 3. ]\n",
            " [4.9 2.5]\n",
            " [7.3 2.9]\n",
            " [6.7 2.5]\n",
            " [7.2 3.6]\n",
            " [6.5 3.2]\n",
            " [6.4 2.7]\n",
            " [6.8 3. ]\n",
            " [5.7 2.5]\n",
            " [5.8 2.8]\n",
            " [6.4 3.2]\n",
            " [6.5 3. ]\n",
            " [7.7 3.8]\n",
            " [7.7 2.6]\n",
            " [6.  2.2]\n",
            " [6.9 3.2]\n",
            " [5.6 2.8]\n",
            " [7.7 2.8]\n",
            " [6.3 2.7]\n",
            " [6.7 3.3]\n",
            " [7.2 3.2]\n",
            " [6.2 2.8]\n",
            " [6.1 3. ]\n",
            " [6.4 2.8]\n",
            " [7.2 3. ]\n",
            " [7.4 2.8]\n",
            " [7.9 3.8]\n",
            " [6.4 2.8]\n",
            " [6.3 2.8]\n",
            " [6.1 2.6]\n",
            " [7.7 3. ]\n",
            " [6.3 3.4]\n",
            " [6.4 3.1]\n",
            " [6.  3. ]\n",
            " [6.9 3.1]\n",
            " [6.7 3.1]\n",
            " [6.9 3.1]\n",
            " [5.8 2.7]\n",
            " [6.8 3.2]\n",
            " [6.7 3.3]\n",
            " [6.7 3. ]\n",
            " [6.3 2.5]\n",
            " [6.5 3. ]\n",
            " [6.2 3.4]\n",
            " [5.9 3. ]]\n",
            "[0 0 0 0 0 0 0 0 0 0 0 0 0 0 0 0 0 0 0 0 0 0 0 0 0 0 0 0 0 0 0 0 0 0 0 0 0\n",
            " 0 0 0 0 0 0 0 0 0 0 0 0 0 1 1 1 1 1 1 1 1 1 1 1 1 1 1 1 1 1 1 1 1 1 1 1 1\n",
            " 1 1 1 1 1 1 1 1 1 1 1 1 1 1 1 1 1 1 1 1 1 1 1 1 1 1 2 2 2 2 2 2 2 2 2 2 2\n",
            " 2 2 2 2 2 2 2 2 2 2 2 2 2 2 2 2 2 2 2 2 2 2 2 2 2 2 2 2 2 2 2 2 2 2 2 2 2\n",
            " 2 2]\n"
          ],
          "name": "stdout"
        }
      ]
    },
    {
      "cell_type": "markdown",
      "metadata": {
        "id": "Rsmmj9vwcZDA"
      },
      "source": [
        "### Train Test Split"
      ]
    },
    {
      "cell_type": "code",
      "metadata": {
        "id": "QOowh6QfcZDB"
      },
      "source": [
        "from sklearn.model_selection import train_test_split\n",
        "# Tr=80%, Te=20%, train_test_split: always gives same split, then randomly choose by using random_state\n",
        "X_train, X_test, y_train, y_test = train_test_split(X, y, test_size=0.20, random_state=0) \n"
      ],
      "execution_count": null,
      "outputs": []
    },
    {
      "cell_type": "markdown",
      "metadata": {
        "id": "VlJfSlMicZDB"
      },
      "source": [
        "### Classifiers"
      ]
    },
    {
      "cell_type": "code",
      "metadata": {
        "id": "CWh0z7AgcZDB",
        "colab": {
          "base_uri": "https://localhost:8080/"
        },
        "outputId": "d4b62849-c145-4853-efa0-5cb59e0b6857"
      },
      "source": [
        "# All ML model in sklearn consists of 3 phases - import, instantiate, fit\n",
        "\n",
        "from sklearn.linear_model import LogisticRegression as LogR\n",
        "log = LogR(random_state=145)\n",
        "log.fit(X_train, y_train) \n",
        "\n",
        "# Quiz: Import Support Vector Machine, then train SVM\n",
        "from sklearn.svm import SVC\n",
        "svm=SVC(kernel='rbf', degree=0, random_state=145)\n",
        "svm.fit(X_train, y_train)\n",
        "# kernal: increase the power (capacity) of SVM - choose linear, poly, rbf (infinite dimensional SVM)...\n",
        "\n",
        "# Quiz: Import Decision Tree, then train DT\n",
        "from sklearn.tree import DecisionTreeClassifier as DTC\n",
        "dtc=DTC(max_depth=4, random_state=145)\n",
        "dtc.fit(X_train, y_train)\n",
        "\n",
        "\n",
        "# depth: increase the power (capacity) of DT: classify the data into 2**n categories"
      ],
      "execution_count": null,
      "outputs": [
        {
          "output_type": "execute_result",
          "data": {
            "text/plain": [
              "DecisionTreeClassifier(ccp_alpha=0.0, class_weight=None, criterion='gini',\n",
              "                       max_depth=4, max_features=None, max_leaf_nodes=None,\n",
              "                       min_impurity_decrease=0.0, min_impurity_split=None,\n",
              "                       min_samples_leaf=1, min_samples_split=2,\n",
              "                       min_weight_fraction_leaf=0.0, presort='deprecated',\n",
              "                       random_state=145, splitter='best')"
            ]
          },
          "metadata": {
            "tags": []
          },
          "execution_count": 163
        }
      ]
    },
    {
      "cell_type": "code",
      "metadata": {
        "id": "BH1wsFhQcZDC",
        "colab": {
          "base_uri": "https://localhost:8080/"
        },
        "outputId": "2e48706a-5620-4373-b071-0495e4795613"
      },
      "source": [
        "# Quiz: Use the model's predict() to calculate the test accuracy. (use whole tr set, not first two feature)\n",
        "\n",
        "# bool -> float (astype('float')) -> mean\n",
        "a = np.array([True]); a = a.astype('float')\n",
        "print(a)\n",
        "\n",
        "# NEVER use the test set to tune the hyperparam. Use validation set\n",
        "\n",
        "y_log=log.predict(X_test)\n",
        "y_svm=svm.predict(X_test)\n",
        "y_dtc=dtc.predict(X_test)\n",
        "\n",
        "print(y_test==y_log)\n",
        "print(type(y_test==y_log))\n",
        "print((y_test==y_log).astype('float'))\n",
        "\n",
        "print('y_log',(y_test==y_log).astype('float').mean())\n",
        "print('y_svm',(y_test==y_svm).astype('float').mean())\n",
        "print('y_dtc',(y_test==y_dtc).astype('float').mean())\n",
        "\n",
        "\n",
        "# Another way of using score())\n",
        "print(log.score(X_test, y_test))\n",
        "print(svm.score(X_test, y_test))\n",
        "print(dtc.score(X_test, y_test))"
      ],
      "execution_count": null,
      "outputs": [
        {
          "output_type": "stream",
          "text": [
            "[1.]\n",
            "[False  True  True  True  True  True  True False False  True False False\n",
            "  True False  True  True  True  True  True  True False  True  True  True\n",
            "  True  True  True False  True  True]\n",
            "<class 'numpy.ndarray'>\n",
            "[0. 1. 1. 1. 1. 1. 1. 0. 0. 1. 0. 0. 1. 0. 1. 1. 1. 1. 1. 1. 0. 1. 1. 1.\n",
            " 1. 1. 1. 0. 1. 1.]\n",
            "y_log 0.7333333333333333\n",
            "y_svm 0.7333333333333333\n",
            "y_dtc 0.6\n",
            "0.7333333333333333\n",
            "0.7333333333333333\n",
            "0.6\n"
          ],
          "name": "stdout"
        }
      ]
    },
    {
      "cell_type": "code",
      "metadata": {
        "colab": {
          "base_uri": "https://localhost:8080/"
        },
        "id": "nQIB0-HJVjoy",
        "outputId": "be2a2826-cc0b-4c3d-8082-86b38a65a7bf"
      },
      "source": [
        "# Quiz: Use various model options, features, and the score() fuction to compare performance.\n",
        "\n",
        "# 1: degree\n",
        "from sklearn.svm import SVC\n",
        "svm_rbf1 = SVC(kernel= 'rbf', degree= 1, random_state= 145)\n",
        "svm_rbf3 = SVC(kernel= 'rbf', degree= 3, random_state= 145)\n",
        "svm_rbf5 = SVC(kernel= 'rbf', degree= 5, random_state= 145)\n",
        "\n",
        "svm_rbf1.fit(X_train, y_train)\n",
        "svm_rbf3.fit(X_train, y_train)\n",
        "svm_rbf5.fit(X_train, y_train)\n",
        "\n",
        "print('by degree')\n",
        "print('deg 1:', svm_rbf1.score(X_test, y_test))\n",
        "print('deg 3:',svm_rbf3.score(X_test, y_test))\n",
        "print('deg 5:',svm_rbf5.score(X_test, y_test))\n",
        "\n",
        "# 2: kernel\n",
        "svm_rbf = SVC(kernel= 'rbf', random_state= 145)\n",
        "svm_lin = SVC(kernel= 'linear', random_state= 145)\n",
        "svm_poly = SVC(kernel= 'poly', random_state= 145)\n",
        "svm_sig = SVC(kernel= 'sigmoid', random_state= 145)\n",
        "\n",
        "svm_rbf.fit(X_train, y_train)\n",
        "svm_lin.fit(X_train, y_train)\n",
        "svm_poly.fit(X_train, y_train)\n",
        "svm_sig.fit(X_train, y_train)\n",
        "\n",
        "print('\\nby kernel')\n",
        "print('rbf', svm_rbf.score(X_test, y_test))\n",
        "print('linear', svm_lin.score(X_test, y_test))\n",
        "print('poly', svm_poly.score(X_test, y_test))\n",
        "print('sigmoid', svm_sig.score(X_test, y_test))\n"
      ],
      "execution_count": null,
      "outputs": [
        {
          "output_type": "stream",
          "text": [
            "by degree\n",
            "deg 1: 0.7333333333333333\n",
            "deg 3: 0.7333333333333333\n",
            "deg 5: 0.7333333333333333\n",
            "\n",
            "by kernel\n",
            "rbf 0.7333333333333333\n",
            "linear 0.7333333333333333\n",
            "poly 0.7333333333333333\n",
            "sigmoid 0.2\n"
          ],
          "name": "stdout"
        }
      ]
    },
    {
      "cell_type": "code",
      "metadata": {
        "id": "pfAicZ-7cZDC",
        "colab": {
          "base_uri": "https://localhost:8080/",
          "height": 354
        },
        "outputId": "6a3d5ba3-c08a-4f57-c5f9-429ad8811501"
      },
      "source": [
        "# Quiz: Can you draw four scatterplots for each model's predictions and the true labels? (Example shown below)\n",
        "\n",
        "# tensorboard: useful to show training process\n",
        "# same data pts & different classification: c = y_predict (distinguished by various colors)\n",
        "# matplotlib.mashgrid can show decision boundary. \n",
        "\n",
        "print(X_train.shape)  # 120 data, 4 features\n",
        "log.fit(X_train[:,:2], y_train) # Cause it should be drawn on 2-D graph\n",
        "svm.fit(X_train[:,:2], y_train)\n",
        "dtc.fit(X_train[:,:2], y_train)\n",
        "\n",
        "y_log=log.predict(X_test[:,:2])\n",
        "y_svm=svm.predict(X_test[:,:2])\n",
        "y_dtc=dtc.predict(X_test[:,:2])\n",
        "\n",
        "plt.figure(figsize=(20,5))\n",
        "\n",
        "plt.subplot(141)\n",
        "plt.title('Logistic Regression')\n",
        "plt.scatter(X_test[:,0],X_test[:,1],c=y_log)\n",
        "\n",
        "plt.subplot(142)\n",
        "plt.title('SVM')\n",
        "plt.scatter(X_test[:,0],X_test[:,1],c=y_svm)\n",
        "\n",
        "plt.subplot(143)\n",
        "plt.title('Decision Tree')\n",
        "plt.scatter(X_test[:,0],X_test[:,1],c=y_dtc)\n",
        "\n",
        "plt.subplot(144)\n",
        "plt.title('Ground Truth')\n",
        "plt.scatter(X_test[:,0],X_test[:,1],c=y_test)\n",
        "\n",
        "plt.show()"
      ],
      "execution_count": null,
      "outputs": [
        {
          "output_type": "stream",
          "text": [
            "(120, 2)\n"
          ],
          "name": "stdout"
        },
        {
          "output_type": "display_data",
          "data": {
            "image/png": "[encoded data removed]",
            "text/plain": [
              "<Figure size 1440x360 with 4 Axes>"
            ]
          },
          "metadata": {
            "tags": [],
            "needs_background": "light"
          }
        }
      ]
    },
    {
      "cell_type": "markdown",
      "metadata": {
        "id": "rr-BFXOWcZDC"
      },
      "source": [
        "![Scatterplot](https://i.imgur.com/TDvaIWA.png)"
      ]
    }
  ]
}